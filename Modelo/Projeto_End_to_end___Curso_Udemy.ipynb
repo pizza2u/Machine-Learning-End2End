{
  "cells": [
    {
      "cell_type": "code",
      "execution_count": 2,
      "metadata": {
        "id": "ywhh7M78vDw3"
      },
      "outputs": [
        {
          "name": "stdout",
          "output_type": "stream",
          "text": [
            "Defaulting to user installation because normal site-packages is not writeable\n",
            "Collecting seaborn\n",
            "  Using cached seaborn-0.13.2-py3-none-any.whl.metadata (5.4 kB)\n",
            "Requirement already satisfied: numpy!=1.24.0,>=1.20 in c:\\users\\spock\\appdata\\local\\packages\\pythonsoftwarefoundation.python.3.12_qbz5n2kfra8p0\\localcache\\local-packages\\python312\\site-packages (from seaborn) (1.26.4)\n",
            "Collecting pandas>=1.2 (from seaborn)\n",
            "  Downloading pandas-2.2.2-cp312-cp312-win_amd64.whl.metadata (19 kB)\n",
            "Collecting matplotlib!=3.6.1,>=3.4 (from seaborn)\n",
            "  Downloading matplotlib-3.9.0-cp312-cp312-win_amd64.whl.metadata (11 kB)\n",
            "Collecting contourpy>=1.0.1 (from matplotlib!=3.6.1,>=3.4->seaborn)\n",
            "  Downloading contourpy-1.2.1-cp312-cp312-win_amd64.whl.metadata (5.8 kB)\n",
            "Collecting cycler>=0.10 (from matplotlib!=3.6.1,>=3.4->seaborn)\n",
            "  Using cached cycler-0.12.1-py3-none-any.whl.metadata (3.8 kB)\n",
            "Collecting fonttools>=4.22.0 (from matplotlib!=3.6.1,>=3.4->seaborn)\n",
            "  Downloading fonttools-4.52.4-cp312-cp312-win_amd64.whl.metadata (164 kB)\n",
            "     ---------------------------------------- 0.0/165.0 kB ? eta -:--:--\n",
            "     -- ------------------------------------- 10.2/165.0 kB ? eta -:--:--\n",
            "     --------- --------------------------- 41.0/165.0 kB 393.8 kB/s eta 0:00:01\n",
            "     -------------------- ---------------- 92.2/165.0 kB 751.6 kB/s eta 0:00:01\n",
            "     ------------------------------- ---- 143.4/165.0 kB 853.3 kB/s eta 0:00:01\n",
            "     ------------------------------------ 165.0/165.0 kB 762.2 kB/s eta 0:00:00\n",
            "Collecting kiwisolver>=1.3.1 (from matplotlib!=3.6.1,>=3.4->seaborn)\n",
            "  Downloading kiwisolver-1.4.5-cp312-cp312-win_amd64.whl.metadata (6.5 kB)\n",
            "Requirement already satisfied: packaging>=20.0 in c:\\users\\spock\\appdata\\local\\packages\\pythonsoftwarefoundation.python.3.12_qbz5n2kfra8p0\\localcache\\local-packages\\python312\\site-packages (from matplotlib!=3.6.1,>=3.4->seaborn) (24.0)\n",
            "Collecting pillow>=8 (from matplotlib!=3.6.1,>=3.4->seaborn)\n",
            "  Downloading pillow-10.3.0-cp312-cp312-win_amd64.whl.metadata (9.4 kB)\n",
            "Collecting pyparsing>=2.3.1 (from matplotlib!=3.6.1,>=3.4->seaborn)\n",
            "  Using cached pyparsing-3.1.2-py3-none-any.whl.metadata (5.1 kB)\n",
            "Requirement already satisfied: python-dateutil>=2.7 in c:\\users\\spock\\appdata\\local\\packages\\pythonsoftwarefoundation.python.3.12_qbz5n2kfra8p0\\localcache\\local-packages\\python312\\site-packages (from matplotlib!=3.6.1,>=3.4->seaborn) (2.9.0.post0)\n",
            "Collecting pytz>=2020.1 (from pandas>=1.2->seaborn)\n",
            "  Using cached pytz-2024.1-py2.py3-none-any.whl.metadata (22 kB)\n",
            "Collecting tzdata>=2022.7 (from pandas>=1.2->seaborn)\n",
            "  Using cached tzdata-2024.1-py2.py3-none-any.whl.metadata (1.4 kB)\n",
            "Requirement already satisfied: six>=1.5 in c:\\users\\spock\\appdata\\local\\packages\\pythonsoftwarefoundation.python.3.12_qbz5n2kfra8p0\\localcache\\local-packages\\python312\\site-packages (from python-dateutil>=2.7->matplotlib!=3.6.1,>=3.4->seaborn) (1.16.0)\n",
            "Using cached seaborn-0.13.2-py3-none-any.whl (294 kB)\n",
            "Downloading matplotlib-3.9.0-cp312-cp312-win_amd64.whl (8.0 MB)\n",
            "   ---------------------------------------- 0.0/8.0 MB ? eta -:--:--\n",
            "    --------------------------------------- 0.1/8.0 MB 7.0 MB/s eta 0:00:02\n",
            "    --------------------------------------- 0.1/8.0 MB 7.0 MB/s eta 0:00:02\n",
            "   - -------------------------------------- 0.2/8.0 MB 1.8 MB/s eta 0:00:05\n",
            "   - -------------------------------------- 0.2/8.0 MB 1.8 MB/s eta 0:00:05\n",
            "   - -------------------------------------- 0.4/8.0 MB 1.6 MB/s eta 0:00:05\n",
            "   -- ------------------------------------- 0.5/8.0 MB 1.8 MB/s eta 0:00:05\n",
            "   --- ------------------------------------ 0.7/8.0 MB 2.1 MB/s eta 0:00:04\n",
            "   --- ------------------------------------ 0.8/8.0 MB 2.3 MB/s eta 0:00:04\n",
            "   ---- ----------------------------------- 0.9/8.0 MB 2.4 MB/s eta 0:00:03\n",
            "   ---- ----------------------------------- 1.0/8.0 MB 2.2 MB/s eta 0:00:04\n",
            "   ----- ---------------------------------- 1.1/8.0 MB 2.3 MB/s eta 0:00:03\n",
            "   ------ --------------------------------- 1.3/8.0 MB 2.4 MB/s eta 0:00:03\n",
            "   ------ --------------------------------- 1.4/8.0 MB 2.4 MB/s eta 0:00:03\n",
            "   ------- -------------------------------- 1.6/8.0 MB 2.5 MB/s eta 0:00:03\n",
            "   -------- ------------------------------- 1.8/8.0 MB 2.6 MB/s eta 0:00:03\n",
            "   --------- ------------------------------ 1.9/8.0 MB 2.5 MB/s eta 0:00:03\n",
            "   ---------- ----------------------------- 2.1/8.0 MB 2.6 MB/s eta 0:00:03\n",
            "   ----------- ---------------------------- 2.3/8.0 MB 2.7 MB/s eta 0:00:03\n",
            "   ----------- ---------------------------- 2.4/8.0 MB 2.6 MB/s eta 0:00:03\n",
            "   ------------ --------------------------- 2.6/8.0 MB 2.7 MB/s eta 0:00:03\n",
            "   ------------- -------------------------- 2.8/8.0 MB 2.8 MB/s eta 0:00:02\n",
            "   -------------- ------------------------- 3.0/8.0 MB 2.8 MB/s eta 0:00:02\n",
            "   --------------- ------------------------ 3.1/8.0 MB 2.9 MB/s eta 0:00:02\n",
            "   ---------------- ----------------------- 3.3/8.0 MB 2.9 MB/s eta 0:00:02\n",
            "   ----------------- ---------------------- 3.5/8.0 MB 3.0 MB/s eta 0:00:02\n",
            "   ------------------ --------------------- 3.7/8.0 MB 3.0 MB/s eta 0:00:02\n",
            "   ------------------- -------------------- 3.8/8.0 MB 3.0 MB/s eta 0:00:02\n",
            "   ------------------- -------------------- 4.0/8.0 MB 3.1 MB/s eta 0:00:02\n",
            "   -------------------- ------------------- 4.2/8.0 MB 3.1 MB/s eta 0:00:02\n",
            "   --------------------- ------------------ 4.4/8.0 MB 3.1 MB/s eta 0:00:02\n",
            "   ----------------------- ---------------- 4.6/8.0 MB 3.2 MB/s eta 0:00:02\n",
            "   ----------------------- ---------------- 4.8/8.0 MB 3.2 MB/s eta 0:00:02\n",
            "   ------------------------ --------------- 4.9/8.0 MB 3.3 MB/s eta 0:00:01\n",
            "   ------------------------- -------------- 5.1/8.0 MB 3.2 MB/s eta 0:00:01\n",
            "   -------------------------- ------------- 5.4/8.0 MB 3.3 MB/s eta 0:00:01\n",
            "   --------------------------- ------------ 5.6/8.0 MB 3.4 MB/s eta 0:00:01\n",
            "   ---------------------------- ----------- 5.7/8.0 MB 3.3 MB/s eta 0:00:01\n",
            "   ----------------------------- ---------- 5.9/8.0 MB 3.4 MB/s eta 0:00:01\n",
            "   ------------------------------ --------- 6.1/8.0 MB 3.4 MB/s eta 0:00:01\n",
            "   ------------------------------- -------- 6.4/8.0 MB 3.4 MB/s eta 0:00:01\n",
            "   -------------------------------- ------- 6.5/8.0 MB 3.4 MB/s eta 0:00:01\n",
            "   --------------------------------- ------ 6.7/8.0 MB 3.5 MB/s eta 0:00:01\n",
            "   ---------------------------------- ----- 6.9/8.0 MB 3.5 MB/s eta 0:00:01\n",
            "   ----------------------------------- ---- 7.1/8.0 MB 3.5 MB/s eta 0:00:01\n",
            "   ------------------------------------ --- 7.4/8.0 MB 3.6 MB/s eta 0:00:01\n",
            "   ------------------------------------- -- 7.5/8.0 MB 3.6 MB/s eta 0:00:01\n",
            "   -------------------------------------- - 7.8/8.0 MB 3.6 MB/s eta 0:00:01\n",
            "   ---------------------------------------  7.9/8.0 MB 3.6 MB/s eta 0:00:01\n",
            "   ---------------------------------------  8.0/8.0 MB 3.6 MB/s eta 0:00:01\n",
            "   ---------------------------------------- 8.0/8.0 MB 3.6 MB/s eta 0:00:00\n",
            "Downloading pandas-2.2.2-cp312-cp312-win_amd64.whl (11.5 MB)\n",
            "   ---------------------------------------- 0.0/11.5 MB ? eta -:--:--\n",
            "    --------------------------------------- 0.2/11.5 MB 5.9 MB/s eta 0:00:02\n",
            "   - -------------------------------------- 0.4/11.5 MB 4.6 MB/s eta 0:00:03\n",
            "   -- ------------------------------------- 0.6/11.5 MB 4.8 MB/s eta 0:00:03\n",
            "   -- ------------------------------------- 0.8/11.5 MB 4.9 MB/s eta 0:00:03\n",
            "   --- ------------------------------------ 1.1/11.5 MB 5.2 MB/s eta 0:00:03\n",
            "   ---- ----------------------------------- 1.3/11.5 MB 5.2 MB/s eta 0:00:02\n",
            "   ----- ---------------------------------- 1.5/11.5 MB 5.1 MB/s eta 0:00:02\n",
            "   ------ --------------------------------- 1.8/11.5 MB 5.1 MB/s eta 0:00:02\n",
            "   ------- -------------------------------- 2.0/11.5 MB 5.0 MB/s eta 0:00:02\n",
            "   -------- ------------------------------- 2.3/11.5 MB 5.1 MB/s eta 0:00:02\n",
            "   -------- ------------------------------- 2.5/11.5 MB 5.1 MB/s eta 0:00:02\n",
            "   --------- ------------------------------ 2.7/11.5 MB 5.1 MB/s eta 0:00:02\n",
            "   ---------- ----------------------------- 2.9/11.5 MB 5.0 MB/s eta 0:00:02\n",
            "   ---------- ----------------------------- 3.1/11.5 MB 4.9 MB/s eta 0:00:02\n",
            "   ----------- ---------------------------- 3.4/11.5 MB 5.0 MB/s eta 0:00:02\n",
            "   ------------ --------------------------- 3.5/11.5 MB 5.0 MB/s eta 0:00:02\n",
            "   ------------- -------------------------- 3.8/11.5 MB 4.9 MB/s eta 0:00:02\n",
            "   ------------- -------------------------- 4.0/11.5 MB 4.9 MB/s eta 0:00:02\n",
            "   -------------- ------------------------- 4.2/11.5 MB 4.9 MB/s eta 0:00:02\n",
            "   --------------- ------------------------ 4.4/11.5 MB 4.8 MB/s eta 0:00:02\n",
            "   --------------- ------------------------ 4.6/11.5 MB 4.9 MB/s eta 0:00:02\n",
            "   ---------------- ----------------------- 4.9/11.5 MB 4.9 MB/s eta 0:00:02\n",
            "   ----------------- ---------------------- 5.0/11.5 MB 5.0 MB/s eta 0:00:02\n",
            "   ------------------ --------------------- 5.3/11.5 MB 5.0 MB/s eta 0:00:02\n",
            "   ------------------- -------------------- 5.5/11.5 MB 5.0 MB/s eta 0:00:02\n",
            "   -------------------- ------------------- 5.8/11.5 MB 5.0 MB/s eta 0:00:02\n",
            "   --------------------- ------------------ 6.1/11.5 MB 5.0 MB/s eta 0:00:02\n",
            "   --------------------- ------------------ 6.3/11.5 MB 5.0 MB/s eta 0:00:02\n",
            "   ---------------------- ----------------- 6.5/11.5 MB 5.0 MB/s eta 0:00:02\n",
            "   ----------------------- ---------------- 6.8/11.5 MB 5.0 MB/s eta 0:00:01\n",
            "   ------------------------ --------------- 7.1/11.5 MB 5.1 MB/s eta 0:00:01\n",
            "   ------------------------- -------------- 7.3/11.5 MB 5.1 MB/s eta 0:00:01\n",
            "   -------------------------- ------------- 7.5/11.5 MB 5.1 MB/s eta 0:00:01\n",
            "   --------------------------- ------------ 7.8/11.5 MB 5.1 MB/s eta 0:00:01\n",
            "   ---------------------------- ----------- 8.1/11.5 MB 5.1 MB/s eta 0:00:01\n",
            "   ----------------------------- ---------- 8.4/11.5 MB 5.1 MB/s eta 0:00:01\n",
            "   ------------------------------ --------- 8.6/11.5 MB 5.2 MB/s eta 0:00:01\n",
            "   ------------------------------- -------- 9.0/11.5 MB 5.2 MB/s eta 0:00:01\n",
            "   ------------------------------- -------- 9.2/11.5 MB 5.1 MB/s eta 0:00:01\n",
            "   --------------------------------- ------ 9.5/11.5 MB 5.2 MB/s eta 0:00:01\n",
            "   --------------------------------- ------ 9.7/11.5 MB 5.2 MB/s eta 0:00:01\n",
            "   ---------------------------------- ----- 10.0/11.5 MB 5.2 MB/s eta 0:00:01\n",
            "   ----------------------------------- ---- 10.3/11.5 MB 5.2 MB/s eta 0:00:01\n",
            "   ------------------------------------ --- 10.6/11.5 MB 5.2 MB/s eta 0:00:01\n",
            "   ------------------------------------- -- 10.9/11.5 MB 5.2 MB/s eta 0:00:01\n",
            "   -------------------------------------- - 11.1/11.5 MB 5.2 MB/s eta 0:00:01\n",
            "   ---------------------------------------  11.4/11.5 MB 5.2 MB/s eta 0:00:01\n",
            "   ---------------------------------------  11.5/11.5 MB 5.2 MB/s eta 0:00:01\n",
            "   ---------------------------------------  11.5/11.5 MB 5.2 MB/s eta 0:00:01\n",
            "   ---------------------------------------  11.5/11.5 MB 5.2 MB/s eta 0:00:01\n",
            "   ---------------------------------------  11.5/11.5 MB 5.2 MB/s eta 0:00:01\n",
            "   ---------------------------------------- 11.5/11.5 MB 4.7 MB/s eta 0:00:00\n",
            "Downloading contourpy-1.2.1-cp312-cp312-win_amd64.whl (189 kB)\n",
            "   ---------------------------------------- 0.0/189.9 kB ? eta -:--:--\n",
            "   ---------------------------------------- 189.9/189.9 kB 5.8 MB/s eta 0:00:00\n",
            "Using cached cycler-0.12.1-py3-none-any.whl (8.3 kB)\n",
            "Downloading fonttools-4.52.4-cp312-cp312-win_amd64.whl (2.2 MB)\n",
            "   ---------------------------------------- 0.0/2.2 MB ? eta -:--:--\n",
            "   ---- ----------------------------------- 0.3/2.2 MB 7.9 MB/s eta 0:00:01\n",
            "   -------- ------------------------------- 0.5/2.2 MB 7.6 MB/s eta 0:00:01\n",
            "   -------------- ------------------------- 0.8/2.2 MB 7.0 MB/s eta 0:00:01\n",
            "   ------------------ --------------------- 1.0/2.2 MB 6.3 MB/s eta 0:00:01\n",
            "   ---------------------- ----------------- 1.2/2.2 MB 5.6 MB/s eta 0:00:01\n",
            "   -------------------------- ------------- 1.5/2.2 MB 5.9 MB/s eta 0:00:01\n",
            "   ------------------------------ --------- 1.7/2.2 MB 5.6 MB/s eta 0:00:01\n",
            "   ----------------------------------- ---- 2.0/2.2 MB 5.7 MB/s eta 0:00:01\n",
            "   ---------------------------------------  2.2/2.2 MB 5.5 MB/s eta 0:00:01\n",
            "   ---------------------------------------- 2.2/2.2 MB 5.4 MB/s eta 0:00:00\n",
            "Downloading kiwisolver-1.4.5-cp312-cp312-win_amd64.whl (56 kB)\n",
            "   ---------------------------------------- 0.0/56.0 kB ? eta -:--:--\n",
            "   ---------------------------------------- 56.0/56.0 kB 2.9 MB/s eta 0:00:00\n",
            "Downloading pillow-10.3.0-cp312-cp312-win_amd64.whl (2.5 MB)\n",
            "   ---------------------------------------- 0.0/2.5 MB ? eta -:--:--\n",
            "   ---- ----------------------------------- 0.3/2.5 MB 8.9 MB/s eta 0:00:01\n",
            "   ---------- ----------------------------- 0.7/2.5 MB 6.0 MB/s eta 0:00:01\n",
            "   ------------------ --------------------- 1.2/2.5 MB 6.8 MB/s eta 0:00:01\n",
            "   ---------------------- ----------------- 1.4/2.5 MB 6.5 MB/s eta 0:00:01\n",
            "   --------------------------- ------------ 1.7/2.5 MB 6.5 MB/s eta 0:00:01\n",
            "   ------------------------------- -------- 2.0/2.5 MB 6.4 MB/s eta 0:00:01\n",
            "   ----------------------------------- ---- 2.3/2.5 MB 6.0 MB/s eta 0:00:01\n",
            "   ---------------------------------------  2.5/2.5 MB 6.2 MB/s eta 0:00:01\n",
            "   ---------------------------------------- 2.5/2.5 MB 5.8 MB/s eta 0:00:00\n",
            "Using cached pyparsing-3.1.2-py3-none-any.whl (103 kB)\n",
            "Using cached pytz-2024.1-py2.py3-none-any.whl (505 kB)\n",
            "Using cached tzdata-2024.1-py2.py3-none-any.whl (345 kB)\n",
            "Installing collected packages: pytz, tzdata, pyparsing, pillow, kiwisolver, fonttools, cycler, contourpy, pandas, matplotlib, seaborn\n",
            "Successfully installed contourpy-1.2.1 cycler-0.12.1 fonttools-4.52.4 kiwisolver-1.4.5 matplotlib-3.9.0 pandas-2.2.2 pillow-10.3.0 pyparsing-3.1.2 pytz-2024.1 seaborn-0.13.2 tzdata-2024.1\n",
            "Defaulting to user installation because normal site-packages is not writeable\n",
            "Requirement already satisfied: pandas in c:\\users\\spock\\appdata\\local\\packages\\pythonsoftwarefoundation.python.3.12_qbz5n2kfra8p0\\localcache\\local-packages\\python312\\site-packages (2.2.2)\n",
            "Requirement already satisfied: numpy>=1.26.0 in c:\\users\\spock\\appdata\\local\\packages\\pythonsoftwarefoundation.python.3.12_qbz5n2kfra8p0\\localcache\\local-packages\\python312\\site-packages (from pandas) (1.26.4)\n",
            "Requirement already satisfied: python-dateutil>=2.8.2 in c:\\users\\spock\\appdata\\local\\packages\\pythonsoftwarefoundation.python.3.12_qbz5n2kfra8p0\\localcache\\local-packages\\python312\\site-packages (from pandas) (2.9.0.post0)\n",
            "Requirement already satisfied: pytz>=2020.1 in c:\\users\\spock\\appdata\\local\\packages\\pythonsoftwarefoundation.python.3.12_qbz5n2kfra8p0\\localcache\\local-packages\\python312\\site-packages (from pandas) (2024.1)\n",
            "Requirement already satisfied: tzdata>=2022.7 in c:\\users\\spock\\appdata\\local\\packages\\pythonsoftwarefoundation.python.3.12_qbz5n2kfra8p0\\localcache\\local-packages\\python312\\site-packages (from pandas) (2024.1)\n",
            "Requirement already satisfied: six>=1.5 in c:\\users\\spock\\appdata\\local\\packages\\pythonsoftwarefoundation.python.3.12_qbz5n2kfra8p0\\localcache\\local-packages\\python312\\site-packages (from python-dateutil>=2.8.2->pandas) (1.16.0)\n",
            "Defaulting to user installation because normal site-packages is not writeable\n",
            "Requirement already satisfied: numpy in c:\\users\\spock\\appdata\\local\\packages\\pythonsoftwarefoundation.python.3.12_qbz5n2kfra8p0\\localcache\\local-packages\\python312\\site-packages (1.26.4)\n",
            "Defaulting to user installation because normal site-packages is not writeable\n",
            "Requirement already satisfied: matplotlib in c:\\users\\spock\\appdata\\local\\packages\\pythonsoftwarefoundation.python.3.12_qbz5n2kfra8p0\\localcache\\local-packages\\python312\\site-packages (3.9.0)\n",
            "Requirement already satisfied: contourpy>=1.0.1 in c:\\users\\spock\\appdata\\local\\packages\\pythonsoftwarefoundation.python.3.12_qbz5n2kfra8p0\\localcache\\local-packages\\python312\\site-packages (from matplotlib) (1.2.1)\n",
            "Requirement already satisfied: cycler>=0.10 in c:\\users\\spock\\appdata\\local\\packages\\pythonsoftwarefoundation.python.3.12_qbz5n2kfra8p0\\localcache\\local-packages\\python312\\site-packages (from matplotlib) (0.12.1)\n",
            "Requirement already satisfied: fonttools>=4.22.0 in c:\\users\\spock\\appdata\\local\\packages\\pythonsoftwarefoundation.python.3.12_qbz5n2kfra8p0\\localcache\\local-packages\\python312\\site-packages (from matplotlib) (4.52.4)\n",
            "Requirement already satisfied: kiwisolver>=1.3.1 in c:\\users\\spock\\appdata\\local\\packages\\pythonsoftwarefoundation.python.3.12_qbz5n2kfra8p0\\localcache\\local-packages\\python312\\site-packages (from matplotlib) (1.4.5)\n",
            "Requirement already satisfied: numpy>=1.23 in c:\\users\\spock\\appdata\\local\\packages\\pythonsoftwarefoundation.python.3.12_qbz5n2kfra8p0\\localcache\\local-packages\\python312\\site-packages (from matplotlib) (1.26.4)\n",
            "Requirement already satisfied: packaging>=20.0 in c:\\users\\spock\\appdata\\local\\packages\\pythonsoftwarefoundation.python.3.12_qbz5n2kfra8p0\\localcache\\local-packages\\python312\\site-packages (from matplotlib) (24.0)\n",
            "Requirement already satisfied: pillow>=8 in c:\\users\\spock\\appdata\\local\\packages\\pythonsoftwarefoundation.python.3.12_qbz5n2kfra8p0\\localcache\\local-packages\\python312\\site-packages (from matplotlib) (10.3.0)\n",
            "Requirement already satisfied: pyparsing>=2.3.1 in c:\\users\\spock\\appdata\\local\\packages\\pythonsoftwarefoundation.python.3.12_qbz5n2kfra8p0\\localcache\\local-packages\\python312\\site-packages (from matplotlib) (3.1.2)\n",
            "Requirement already satisfied: python-dateutil>=2.7 in c:\\users\\spock\\appdata\\local\\packages\\pythonsoftwarefoundation.python.3.12_qbz5n2kfra8p0\\localcache\\local-packages\\python312\\site-packages (from matplotlib) (2.9.0.post0)\n",
            "Requirement already satisfied: six>=1.5 in c:\\users\\spock\\appdata\\local\\packages\\pythonsoftwarefoundation.python.3.12_qbz5n2kfra8p0\\localcache\\local-packages\\python312\\site-packages (from python-dateutil>=2.7->matplotlib) (1.16.0)\n"
          ]
        }
      ],
      "source": [
        "#Installing\n",
        "!pip install seaborn\n",
        "!pip install pandas\n",
        "!pip install numpy\n",
        "!pip install matplotlib\n",
        "\n",
        "# Libs necessarias\n",
        "import pandas as pd\n",
        "import numpy as np\n",
        "\n",
        "# Lib graficas\n",
        "import matplotlib.pyplot as plt\n",
        "import seaborn as sns\n",
        "\n",
        "# Avisos\n",
        "import warnings\n",
        "warnings.filterwarnings('ignore')\n",
        "\n",
        "# Confiração no pandas\n",
        "pd.set_option('display.max_rows', 200)\n",
        "pd.set_option('display.max_columns', 100)\n",
        "\n",
        "# Configuração no Matplotlib\n",
        "plt.rcParams['figure.figsize'] = (15, 6)\n",
        "plt.style.use('seaborn-darkgrid')"
      ]
    },
    {
      "cell_type": "markdown",
      "metadata": {
        "id": "qCqYzCS7wKnq"
      },
      "source": [
        "# **Exploração dos dados**"
      ]
    },
    {
      "cell_type": "code",
      "execution_count": null,
      "metadata": {
        "colab": {
          "base_uri": "https://localhost:8080/"
        },
        "id": "ZZEgHJi0wF3N",
        "outputId": "4410f164-003b-49f5-fb31-d7d226eba2d9"
      },
      "outputs": [
        {
          "data": {
            "text/plain": [
              "(10692, 13)"
            ]
          },
          "execution_count": 3,
          "metadata": {},
          "output_type": "execute_result"
        }
      ],
      "source": [
        "# Lendo os dados\n",
        "Base_Dados = pd.read_csv('house_data.csv')\n",
        "\n",
        "# Dimensão\n",
        "Base_Dados.shape"
      ]
    },
    {
      "cell_type": "code",
      "execution_count": null,
      "metadata": {
        "colab": {
          "base_uri": "https://localhost:8080/",
          "height": 206
        },
        "id": "kIBN7E5LwXzr",
        "outputId": "69eb48ff-03db-43c5-c1aa-73854a5f2fd7"
      },
      "outputs": [
        {
          "data": {
            "text/html": [
              "\n",
              "  <div id=\"df-bc04727d-5c58-41a1-a7ca-ccf4ff4d16d3\">\n",
              "    <div class=\"colab-df-container\">\n",
              "      <div>\n",
              "<style scoped>\n",
              "    .dataframe tbody tr th:only-of-type {\n",
              "        vertical-align: middle;\n",
              "    }\n",
              "\n",
              "    .dataframe tbody tr th {\n",
              "        vertical-align: top;\n",
              "    }\n",
              "\n",
              "    .dataframe thead th {\n",
              "        text-align: right;\n",
              "    }\n",
              "</style>\n",
              "<table border=\"1\" class=\"dataframe\">\n",
              "  <thead>\n",
              "    <tr style=\"text-align: right;\">\n",
              "      <th></th>\n",
              "      <th>city</th>\n",
              "      <th>area</th>\n",
              "      <th>rooms</th>\n",
              "      <th>bathroom</th>\n",
              "      <th>parking spaces</th>\n",
              "      <th>floor</th>\n",
              "      <th>animal</th>\n",
              "      <th>furniture</th>\n",
              "      <th>hoa (R$)</th>\n",
              "      <th>rent amount (R$)</th>\n",
              "      <th>property tax (R$)</th>\n",
              "      <th>fire insurance (R$)</th>\n",
              "      <th>total (R$)</th>\n",
              "    </tr>\n",
              "  </thead>\n",
              "  <tbody>\n",
              "    <tr>\n",
              "      <th>0</th>\n",
              "      <td>São Paulo</td>\n",
              "      <td>70</td>\n",
              "      <td>2</td>\n",
              "      <td>1</td>\n",
              "      <td>1</td>\n",
              "      <td>7</td>\n",
              "      <td>acept</td>\n",
              "      <td>furnished</td>\n",
              "      <td>2065</td>\n",
              "      <td>3300</td>\n",
              "      <td>211</td>\n",
              "      <td>42</td>\n",
              "      <td>5618</td>\n",
              "    </tr>\n",
              "    <tr>\n",
              "      <th>1</th>\n",
              "      <td>São Paulo</td>\n",
              "      <td>320</td>\n",
              "      <td>4</td>\n",
              "      <td>4</td>\n",
              "      <td>0</td>\n",
              "      <td>20</td>\n",
              "      <td>acept</td>\n",
              "      <td>not furnished</td>\n",
              "      <td>1200</td>\n",
              "      <td>4960</td>\n",
              "      <td>1750</td>\n",
              "      <td>63</td>\n",
              "      <td>7973</td>\n",
              "    </tr>\n",
              "    <tr>\n",
              "      <th>2</th>\n",
              "      <td>Porto Alegre</td>\n",
              "      <td>80</td>\n",
              "      <td>1</td>\n",
              "      <td>1</td>\n",
              "      <td>1</td>\n",
              "      <td>6</td>\n",
              "      <td>acept</td>\n",
              "      <td>not furnished</td>\n",
              "      <td>1000</td>\n",
              "      <td>2800</td>\n",
              "      <td>0</td>\n",
              "      <td>41</td>\n",
              "      <td>3841</td>\n",
              "    </tr>\n",
              "    <tr>\n",
              "      <th>3</th>\n",
              "      <td>Porto Alegre</td>\n",
              "      <td>51</td>\n",
              "      <td>2</td>\n",
              "      <td>1</td>\n",
              "      <td>0</td>\n",
              "      <td>2</td>\n",
              "      <td>acept</td>\n",
              "      <td>not furnished</td>\n",
              "      <td>270</td>\n",
              "      <td>1112</td>\n",
              "      <td>22</td>\n",
              "      <td>17</td>\n",
              "      <td>1421</td>\n",
              "    </tr>\n",
              "    <tr>\n",
              "      <th>4</th>\n",
              "      <td>São Paulo</td>\n",
              "      <td>25</td>\n",
              "      <td>1</td>\n",
              "      <td>1</td>\n",
              "      <td>0</td>\n",
              "      <td>1</td>\n",
              "      <td>not acept</td>\n",
              "      <td>not furnished</td>\n",
              "      <td>0</td>\n",
              "      <td>800</td>\n",
              "      <td>25</td>\n",
              "      <td>11</td>\n",
              "      <td>836</td>\n",
              "    </tr>\n",
              "  </tbody>\n",
              "</table>\n",
              "</div>\n",
              "      <button class=\"colab-df-convert\" onclick=\"convertToInteractive('df-bc04727d-5c58-41a1-a7ca-ccf4ff4d16d3')\"\n",
              "              title=\"Convert this dataframe to an interactive table.\"\n",
              "              style=\"display:none;\">\n",
              "        \n",
              "  <svg xmlns=\"http://www.w3.org/2000/svg\" height=\"24px\"viewBox=\"0 0 24 24\"\n",
              "       width=\"24px\">\n",
              "    <path d=\"M0 0h24v24H0V0z\" fill=\"none\"/>\n",
              "    <path d=\"M18.56 5.44l.94 2.06.94-2.06 2.06-.94-2.06-.94-.94-2.06-.94 2.06-2.06.94zm-11 1L8.5 8.5l.94-2.06 2.06-.94-2.06-.94L8.5 2.5l-.94 2.06-2.06.94zm10 10l.94 2.06.94-2.06 2.06-.94-2.06-.94-.94-2.06-.94 2.06-2.06.94z\"/><path d=\"M17.41 7.96l-1.37-1.37c-.4-.4-.92-.59-1.43-.59-.52 0-1.04.2-1.43.59L10.3 9.45l-7.72 7.72c-.78.78-.78 2.05 0 2.83L4 21.41c.39.39.9.59 1.41.59.51 0 1.02-.2 1.41-.59l7.78-7.78 2.81-2.81c.8-.78.8-2.07 0-2.86zM5.41 20L4 18.59l7.72-7.72 1.47 1.35L5.41 20z\"/>\n",
              "  </svg>\n",
              "      </button>\n",
              "      \n",
              "  <style>\n",
              "    .colab-df-container {\n",
              "      display:flex;\n",
              "      flex-wrap:wrap;\n",
              "      gap: 12px;\n",
              "    }\n",
              "\n",
              "    .colab-df-convert {\n",
              "      background-color: #E8F0FE;\n",
              "      border: none;\n",
              "      border-radius: 50%;\n",
              "      cursor: pointer;\n",
              "      display: none;\n",
              "      fill: #1967D2;\n",
              "      height: 32px;\n",
              "      padding: 0 0 0 0;\n",
              "      width: 32px;\n",
              "    }\n",
              "\n",
              "    .colab-df-convert:hover {\n",
              "      background-color: #E2EBFA;\n",
              "      box-shadow: 0px 1px 2px rgba(60, 64, 67, 0.3), 0px 1px 3px 1px rgba(60, 64, 67, 0.15);\n",
              "      fill: #174EA6;\n",
              "    }\n",
              "\n",
              "    [theme=dark] .colab-df-convert {\n",
              "      background-color: #3B4455;\n",
              "      fill: #D2E3FC;\n",
              "    }\n",
              "\n",
              "    [theme=dark] .colab-df-convert:hover {\n",
              "      background-color: #434B5C;\n",
              "      box-shadow: 0px 1px 3px 1px rgba(0, 0, 0, 0.15);\n",
              "      filter: drop-shadow(0px 1px 2px rgba(0, 0, 0, 0.3));\n",
              "      fill: #FFFFFF;\n",
              "    }\n",
              "  </style>\n",
              "\n",
              "      <script>\n",
              "        const buttonEl =\n",
              "          document.querySelector('#df-bc04727d-5c58-41a1-a7ca-ccf4ff4d16d3 button.colab-df-convert');\n",
              "        buttonEl.style.display =\n",
              "          google.colab.kernel.accessAllowed ? 'block' : 'none';\n",
              "\n",
              "        async function convertToInteractive(key) {\n",
              "          const element = document.querySelector('#df-bc04727d-5c58-41a1-a7ca-ccf4ff4d16d3');\n",
              "          const dataTable =\n",
              "            await google.colab.kernel.invokeFunction('convertToInteractive',\n",
              "                                                     [key], {});\n",
              "          if (!dataTable) return;\n",
              "\n",
              "          const docLinkHtml = 'Like what you see? Visit the ' +\n",
              "            '<a target=\"_blank\" href=https://colab.research.google.com/notebooks/data_table.ipynb>data table notebook</a>'\n",
              "            + ' to learn more about interactive tables.';\n",
              "          element.innerHTML = '';\n",
              "          dataTable['output_type'] = 'display_data';\n",
              "          await google.colab.output.renderOutput(dataTable, element);\n",
              "          const docLink = document.createElement('div');\n",
              "          docLink.innerHTML = docLinkHtml;\n",
              "          element.appendChild(docLink);\n",
              "        }\n",
              "      </script>\n",
              "    </div>\n",
              "  </div>\n",
              "  "
            ],
            "text/plain": [
              "           city  area  rooms  bathroom  parking spaces floor     animal  \\\n",
              "0     São Paulo    70      2         1               1     7      acept   \n",
              "1     São Paulo   320      4         4               0    20      acept   \n",
              "2  Porto Alegre    80      1         1               1     6      acept   \n",
              "3  Porto Alegre    51      2         1               0     2      acept   \n",
              "4     São Paulo    25      1         1               0     1  not acept   \n",
              "\n",
              "       furniture  hoa (R$)  rent amount (R$)  property tax (R$)  \\\n",
              "0      furnished      2065              3300                211   \n",
              "1  not furnished      1200              4960               1750   \n",
              "2  not furnished      1000              2800                  0   \n",
              "3  not furnished       270              1112                 22   \n",
              "4  not furnished         0               800                 25   \n",
              "\n",
              "   fire insurance (R$)  total (R$)  \n",
              "0                   42        5618  \n",
              "1                   63        7973  \n",
              "2                   41        3841  \n",
              "3                   17        1421  \n",
              "4                   11         836  "
            ]
          },
          "execution_count": 4,
          "metadata": {},
          "output_type": "execute_result"
        }
      ],
      "source": [
        "# Verificar\n",
        "Base_Dados.head()"
      ]
    },
    {
      "cell_type": "code",
      "execution_count": null,
      "metadata": {
        "id": "w93c4CwSwhXy"
      },
      "outputs": [],
      "source": [
        "# Removendo colunas\n",
        "Base_Dados.drop( columns=['fire insurance (R$)', 'total (R$)'], inplace=True )"
      ]
    },
    {
      "cell_type": "code",
      "execution_count": null,
      "metadata": {
        "colab": {
          "base_uri": "https://localhost:8080/"
        },
        "id": "oPQvDNSbxzJu",
        "outputId": "40ae04f4-b848-49a5-8f2a-491ccf42288e"
      },
      "outputs": [
        {
          "data": {
            "text/plain": [
              "(10692, 11)"
            ]
          },
          "execution_count": 6,
          "metadata": {},
          "output_type": "execute_result"
        }
      ],
      "source": [
        "# Verificar\n",
        "Base_Dados.shape"
      ]
    },
    {
      "cell_type": "code",
      "execution_count": null,
      "metadata": {
        "colab": {
          "base_uri": "https://localhost:8080/"
        },
        "id": "GqKAhOIqx5Yr",
        "outputId": "f6216be2-cd60-4011-c789-3a1918e154dd"
      },
      "outputs": [
        {
          "data": {
            "text/plain": [
              "city                 0\n",
              "area                 0\n",
              "rooms                0\n",
              "bathroom             0\n",
              "parking spaces       0\n",
              "floor                0\n",
              "animal               0\n",
              "furniture            0\n",
              "hoa (R$)             0\n",
              "rent amount (R$)     0\n",
              "property tax (R$)    0\n",
              "dtype: int64"
            ]
          },
          "execution_count": 7,
          "metadata": {},
          "output_type": "execute_result"
        }
      ],
      "source": [
        "# Campos vazios\n",
        "Base_Dados.isnull().sum().sort_values( ascending=False )"
      ]
    },
    {
      "cell_type": "code",
      "execution_count": null,
      "metadata": {
        "colab": {
          "base_uri": "https://localhost:8080/"
        },
        "id": "0GTQKhVJx-dY",
        "outputId": "f2965a91-a1d8-4a6f-b56d-d879508d7f2c"
      },
      "outputs": [
        {
          "data": {
            "text/plain": [
              "city                    5\n",
              "area                  517\n",
              "rooms                  11\n",
              "bathroom               10\n",
              "parking spaces         11\n",
              "floor                  35\n",
              "animal                  2\n",
              "furniture               2\n",
              "hoa (R$)             1679\n",
              "rent amount (R$)     1195\n",
              "property tax (R$)    1243\n",
              "dtype: int64"
            ]
          },
          "execution_count": 8,
          "metadata": {},
          "output_type": "execute_result"
        }
      ],
      "source": [
        "# Campos unicos\n",
        "Base_Dados.nunique()"
      ]
    },
    {
      "cell_type": "code",
      "execution_count": null,
      "metadata": {
        "colab": {
          "base_uri": "https://localhost:8080/"
        },
        "id": "WVIYTySYyNQz",
        "outputId": "c9a0bacc-253d-4ef0-859a-5d30eb486e14"
      },
      "outputs": [
        {
          "name": "stdout",
          "output_type": "stream",
          "text": [
            "<class 'pandas.core.frame.DataFrame'>\n",
            "RangeIndex: 10692 entries, 0 to 10691\n",
            "Data columns (total 11 columns):\n",
            " #   Column             Non-Null Count  Dtype \n",
            "---  ------             --------------  ----- \n",
            " 0   city               10692 non-null  object\n",
            " 1   area               10692 non-null  int64 \n",
            " 2   rooms              10692 non-null  int64 \n",
            " 3   bathroom           10692 non-null  int64 \n",
            " 4   parking spaces     10692 non-null  int64 \n",
            " 5   floor              10692 non-null  object\n",
            " 6   animal             10692 non-null  object\n",
            " 7   furniture          10692 non-null  object\n",
            " 8   hoa (R$)           10692 non-null  int64 \n",
            " 9   rent amount (R$)   10692 non-null  int64 \n",
            " 10  property tax (R$)  10692 non-null  int64 \n",
            "dtypes: int64(7), object(4)\n",
            "memory usage: 919.0+ KB\n"
          ]
        }
      ],
      "source": [
        "# Tipos das colunas\n",
        "Base_Dados.info()"
      ]
    },
    {
      "cell_type": "code",
      "execution_count": null,
      "metadata": {
        "colab": {
          "base_uri": "https://localhost:8080/"
        },
        "id": "oV3BOBwNybmE",
        "outputId": "b1a5ad7f-1519-4721-ba79-643312cea6dc"
      },
      "outputs": [
        {
          "data": {
            "text/plain": [
              "int64     7\n",
              "object    4\n",
              "dtype: int64"
            ]
          },
          "execution_count": 10,
          "metadata": {},
          "output_type": "execute_result"
        }
      ],
      "source": [
        "# Tipo de colunas\n",
        "Base_Dados.dtypes.value_counts()"
      ]
    },
    {
      "cell_type": "markdown",
      "metadata": {
        "id": "geNMlUmhy5OE"
      },
      "source": [
        "# **Exploração Analitica (EDA)**"
      ]
    },
    {
      "cell_type": "code",
      "execution_count": null,
      "metadata": {
        "colab": {
          "base_uri": "https://localhost:8080/"
        },
        "id": "F0tt8Zm3ylVT",
        "outputId": "123598a3-b4ac-4f8f-92d4-d502fe8a7982"
      },
      "outputs": [
        {
          "data": {
            "text/plain": [
              "(Index(['city', 'floor', 'animal', 'furniture'], dtype='object'),\n",
              " Index(['area', 'rooms', 'bathroom', 'parking spaces', 'hoa (R$)',\n",
              "        'rent amount (R$)', 'property tax (R$)'],\n",
              "       dtype='object'))"
            ]
          },
          "execution_count": 11,
          "metadata": {},
          "output_type": "execute_result"
        }
      ],
      "source": [
        "# Filtrar os tipos de colunas\n",
        "Colunas_Categoricas = Base_Dados.columns[ Base_Dados.dtypes == object ]\n",
        "Colunas_Numericas = Base_Dados.columns[ Base_Dados.dtypes != object ]\n",
        "\n",
        "Colunas_Categoricas, Colunas_Numericas"
      ]
    },
    {
      "cell_type": "code",
      "execution_count": null,
      "metadata": {
        "colab": {
          "base_uri": "https://localhost:8080/"
        },
        "id": "UV7BRN-JzMb-",
        "outputId": "bda3e26c-740f-4496-8684-cb562e168c27"
      },
      "outputs": [
        {
          "data": {
            "text/plain": [
              "São Paulo         55.059858\n",
              "Rio de Janeiro    14.038533\n",
              "Belo Horizonte    11.765806\n",
              "Porto Alegre      11.157875\n",
              "Campinas           7.977927\n",
              "Name: city, dtype: float64"
            ]
          },
          "execution_count": 12,
          "metadata": {},
          "output_type": "execute_result"
        }
      ],
      "source": [
        "# Analise dos campos objetos\n",
        "Base_Dados['city'].value_counts( normalize=True ) * 100"
      ]
    },
    {
      "cell_type": "code",
      "execution_count": null,
      "metadata": {
        "colab": {
          "base_uri": "https://localhost:8080/"
        },
        "id": "zkcY4kZ_0h8E",
        "outputId": "c4c59859-6bce-409e-d586-4ecbfee2f747"
      },
      "outputs": [
        {
          "name": "stdout",
          "output_type": "stream",
          "text": [
            "city \n",
            " São Paulo         55.059858\n",
            "Rio de Janeiro    14.038533\n",
            "Belo Horizonte    11.765806\n",
            "Porto Alegre      11.157875\n",
            "Campinas           7.977927\n",
            "Name: city, dtype: float64 \n",
            "\n",
            "floor \n",
            " -      23.017209\n",
            "1      10.110363\n",
            "2       9.212495\n",
            "3       8.707445\n",
            "4       6.995885\n",
            "5       5.611672\n",
            "6       5.041152\n",
            "7       4.648335\n",
            "8       4.582866\n",
            "9       3.451178\n",
            "10      3.338945\n",
            "11      2.833895\n",
            "12      2.403666\n",
            "13      1.870557\n",
            "14      1.589974\n",
            "15      1.374860\n",
            "16      1.019454\n",
            "17      0.897868\n",
            "18      0.701459\n",
            "19      0.495698\n",
            "20      0.411523\n",
            "21      0.392817\n",
            "25      0.233820\n",
            "23      0.233820\n",
            "22      0.224467\n",
            "26      0.187056\n",
            "24      0.177703\n",
            "27      0.074822\n",
            "28      0.056117\n",
            "29      0.046764\n",
            "32      0.018706\n",
            "35      0.009353\n",
            "46      0.009353\n",
            "301     0.009353\n",
            "51      0.009353\n",
            "Name: floor, dtype: float64 \n",
            "\n",
            "animal \n",
            " acept        77.777778\n",
            "not acept    22.222222\n",
            "Name: animal, dtype: float64 \n",
            "\n",
            "furniture \n",
            " not furnished    75.626637\n",
            "furnished        24.373363\n",
            "Name: furniture, dtype: float64 \n",
            "\n"
          ]
        }
      ],
      "source": [
        "# Loop\n",
        "for Coluna in Colunas_Categoricas:\n",
        "\n",
        "  # Fazendo a analise\n",
        "  Analise = Base_Dados[Coluna].value_counts( normalize=True ) * 100\n",
        "\n",
        "  # Mostrando\n",
        "  print( Coluna, '\\n', Analise, '\\n')"
      ]
    },
    {
      "cell_type": "code",
      "execution_count": null,
      "metadata": {
        "colab": {
          "base_uri": "https://localhost:8080/",
          "height": 206
        },
        "id": "TRUW1QEg09MC",
        "outputId": "0a897299-d565-47d5-ed11-75845e73e7de"
      },
      "outputs": [
        {
          "data": {
            "text/html": [
              "\n",
              "  <div id=\"df-bad936dd-aa27-4953-b5b8-fab3281eab80\">\n",
              "    <div class=\"colab-df-container\">\n",
              "      <div>\n",
              "<style scoped>\n",
              "    .dataframe tbody tr th:only-of-type {\n",
              "        vertical-align: middle;\n",
              "    }\n",
              "\n",
              "    .dataframe tbody tr th {\n",
              "        vertical-align: top;\n",
              "    }\n",
              "\n",
              "    .dataframe thead th {\n",
              "        text-align: right;\n",
              "    }\n",
              "</style>\n",
              "<table border=\"1\" class=\"dataframe\">\n",
              "  <thead>\n",
              "    <tr style=\"text-align: right;\">\n",
              "      <th></th>\n",
              "      <th>city</th>\n",
              "      <th>area</th>\n",
              "      <th>rooms</th>\n",
              "      <th>bathroom</th>\n",
              "      <th>parking spaces</th>\n",
              "      <th>floor</th>\n",
              "      <th>animal</th>\n",
              "      <th>furniture</th>\n",
              "      <th>hoa (R$)</th>\n",
              "      <th>rent amount (R$)</th>\n",
              "      <th>property tax (R$)</th>\n",
              "    </tr>\n",
              "  </thead>\n",
              "  <tbody>\n",
              "    <tr>\n",
              "      <th>0</th>\n",
              "      <td>São Paulo</td>\n",
              "      <td>70</td>\n",
              "      <td>2</td>\n",
              "      <td>1</td>\n",
              "      <td>1</td>\n",
              "      <td>7</td>\n",
              "      <td>acept</td>\n",
              "      <td>furnished</td>\n",
              "      <td>2065</td>\n",
              "      <td>3300</td>\n",
              "      <td>211</td>\n",
              "    </tr>\n",
              "    <tr>\n",
              "      <th>1</th>\n",
              "      <td>São Paulo</td>\n",
              "      <td>320</td>\n",
              "      <td>4</td>\n",
              "      <td>4</td>\n",
              "      <td>0</td>\n",
              "      <td>20</td>\n",
              "      <td>acept</td>\n",
              "      <td>not furnished</td>\n",
              "      <td>1200</td>\n",
              "      <td>4960</td>\n",
              "      <td>1750</td>\n",
              "    </tr>\n",
              "    <tr>\n",
              "      <th>2</th>\n",
              "      <td>Porto Alegre</td>\n",
              "      <td>80</td>\n",
              "      <td>1</td>\n",
              "      <td>1</td>\n",
              "      <td>1</td>\n",
              "      <td>6</td>\n",
              "      <td>acept</td>\n",
              "      <td>not furnished</td>\n",
              "      <td>1000</td>\n",
              "      <td>2800</td>\n",
              "      <td>0</td>\n",
              "    </tr>\n",
              "    <tr>\n",
              "      <th>3</th>\n",
              "      <td>Porto Alegre</td>\n",
              "      <td>51</td>\n",
              "      <td>2</td>\n",
              "      <td>1</td>\n",
              "      <td>0</td>\n",
              "      <td>2</td>\n",
              "      <td>acept</td>\n",
              "      <td>not furnished</td>\n",
              "      <td>270</td>\n",
              "      <td>1112</td>\n",
              "      <td>22</td>\n",
              "    </tr>\n",
              "    <tr>\n",
              "      <th>4</th>\n",
              "      <td>São Paulo</td>\n",
              "      <td>25</td>\n",
              "      <td>1</td>\n",
              "      <td>1</td>\n",
              "      <td>0</td>\n",
              "      <td>1</td>\n",
              "      <td>not acept</td>\n",
              "      <td>not furnished</td>\n",
              "      <td>0</td>\n",
              "      <td>800</td>\n",
              "      <td>25</td>\n",
              "    </tr>\n",
              "  </tbody>\n",
              "</table>\n",
              "</div>\n",
              "      <button class=\"colab-df-convert\" onclick=\"convertToInteractive('df-bad936dd-aa27-4953-b5b8-fab3281eab80')\"\n",
              "              title=\"Convert this dataframe to an interactive table.\"\n",
              "              style=\"display:none;\">\n",
              "        \n",
              "  <svg xmlns=\"http://www.w3.org/2000/svg\" height=\"24px\"viewBox=\"0 0 24 24\"\n",
              "       width=\"24px\">\n",
              "    <path d=\"M0 0h24v24H0V0z\" fill=\"none\"/>\n",
              "    <path d=\"M18.56 5.44l.94 2.06.94-2.06 2.06-.94-2.06-.94-.94-2.06-.94 2.06-2.06.94zm-11 1L8.5 8.5l.94-2.06 2.06-.94-2.06-.94L8.5 2.5l-.94 2.06-2.06.94zm10 10l.94 2.06.94-2.06 2.06-.94-2.06-.94-.94-2.06-.94 2.06-2.06.94z\"/><path d=\"M17.41 7.96l-1.37-1.37c-.4-.4-.92-.59-1.43-.59-.52 0-1.04.2-1.43.59L10.3 9.45l-7.72 7.72c-.78.78-.78 2.05 0 2.83L4 21.41c.39.39.9.59 1.41.59.51 0 1.02-.2 1.41-.59l7.78-7.78 2.81-2.81c.8-.78.8-2.07 0-2.86zM5.41 20L4 18.59l7.72-7.72 1.47 1.35L5.41 20z\"/>\n",
              "  </svg>\n",
              "      </button>\n",
              "      \n",
              "  <style>\n",
              "    .colab-df-container {\n",
              "      display:flex;\n",
              "      flex-wrap:wrap;\n",
              "      gap: 12px;\n",
              "    }\n",
              "\n",
              "    .colab-df-convert {\n",
              "      background-color: #E8F0FE;\n",
              "      border: none;\n",
              "      border-radius: 50%;\n",
              "      cursor: pointer;\n",
              "      display: none;\n",
              "      fill: #1967D2;\n",
              "      height: 32px;\n",
              "      padding: 0 0 0 0;\n",
              "      width: 32px;\n",
              "    }\n",
              "\n",
              "    .colab-df-convert:hover {\n",
              "      background-color: #E2EBFA;\n",
              "      box-shadow: 0px 1px 2px rgba(60, 64, 67, 0.3), 0px 1px 3px 1px rgba(60, 64, 67, 0.15);\n",
              "      fill: #174EA6;\n",
              "    }\n",
              "\n",
              "    [theme=dark] .colab-df-convert {\n",
              "      background-color: #3B4455;\n",
              "      fill: #D2E3FC;\n",
              "    }\n",
              "\n",
              "    [theme=dark] .colab-df-convert:hover {\n",
              "      background-color: #434B5C;\n",
              "      box-shadow: 0px 1px 3px 1px rgba(0, 0, 0, 0.15);\n",
              "      filter: drop-shadow(0px 1px 2px rgba(0, 0, 0, 0.3));\n",
              "      fill: #FFFFFF;\n",
              "    }\n",
              "  </style>\n",
              "\n",
              "      <script>\n",
              "        const buttonEl =\n",
              "          document.querySelector('#df-bad936dd-aa27-4953-b5b8-fab3281eab80 button.colab-df-convert');\n",
              "        buttonEl.style.display =\n",
              "          google.colab.kernel.accessAllowed ? 'block' : 'none';\n",
              "\n",
              "        async function convertToInteractive(key) {\n",
              "          const element = document.querySelector('#df-bad936dd-aa27-4953-b5b8-fab3281eab80');\n",
              "          const dataTable =\n",
              "            await google.colab.kernel.invokeFunction('convertToInteractive',\n",
              "                                                     [key], {});\n",
              "          if (!dataTable) return;\n",
              "\n",
              "          const docLinkHtml = 'Like what you see? Visit the ' +\n",
              "            '<a target=\"_blank\" href=https://colab.research.google.com/notebooks/data_table.ipynb>data table notebook</a>'\n",
              "            + ' to learn more about interactive tables.';\n",
              "          element.innerHTML = '';\n",
              "          dataTable['output_type'] = 'display_data';\n",
              "          await google.colab.output.renderOutput(dataTable, element);\n",
              "          const docLink = document.createElement('div');\n",
              "          docLink.innerHTML = docLinkHtml;\n",
              "          element.appendChild(docLink);\n",
              "        }\n",
              "      </script>\n",
              "    </div>\n",
              "  </div>\n",
              "  "
            ],
            "text/plain": [
              "           city  area  rooms  bathroom  parking spaces  floor     animal  \\\n",
              "0     São Paulo    70      2         1               1      7      acept   \n",
              "1     São Paulo   320      4         4               0     20      acept   \n",
              "2  Porto Alegre    80      1         1               1      6      acept   \n",
              "3  Porto Alegre    51      2         1               0      2      acept   \n",
              "4     São Paulo    25      1         1               0      1  not acept   \n",
              "\n",
              "       furniture  hoa (R$)  rent amount (R$)  property tax (R$)  \n",
              "0      furnished      2065              3300                211  \n",
              "1  not furnished      1200              4960               1750  \n",
              "2  not furnished      1000              2800                  0  \n",
              "3  not furnished       270              1112                 22  \n",
              "4  not furnished         0               800                 25  "
            ]
          },
          "execution_count": 14,
          "metadata": {},
          "output_type": "execute_result"
        }
      ],
      "source": [
        "# Correção nos dados\n",
        "\n",
        "# Ajustando o Andar\n",
        "Base_Dados.loc[ Base_Dados['floor'] == '301' ]\n",
        "Base_Dados.iloc[ 2562, 5 ] = 30\n",
        "\n",
        "# Ajustar o '-'\n",
        "Base_Dados['floor'] = Base_Dados['floor'].apply( lambda Registro : 0 if Registro == '-' else Registro )\n",
        "Base_Dados['floor'] = pd.to_numeric( Base_Dados['floor'] )\n",
        "\n",
        "# Verificar\n",
        "Base_Dados.head()"
      ]
    },
    {
      "cell_type": "code",
      "execution_count": null,
      "metadata": {
        "colab": {
          "base_uri": "https://localhost:8080/"
        },
        "id": "nDbwlH4V5BfV",
        "outputId": "0f348257-6ea9-4453-fcaf-acf1c2e0cbad"
      },
      "outputs": [
        {
          "data": {
            "text/plain": [
              "7"
            ]
          },
          "execution_count": 15,
          "metadata": {},
          "output_type": "execute_result"
        }
      ],
      "source": [
        "len( Colunas_Numericas )"
      ]
    },
    {
      "cell_type": "code",
      "execution_count": null,
      "metadata": {
        "colab": {
          "base_uri": "https://localhost:8080/",
          "height": 1000
        },
        "id": "keIzjAG43YOf",
        "outputId": "1a5733ef-17b9-4942-d3dd-f7824ce4f4fb"
      },
      "outputs": [
        {
          "data": {
            "image/png": "[encoded data removed]",
            "text/plain": [
              "<Figure size 1440x2160 with 14 Axes>"
            ]
          },
          "metadata": {},
          "output_type": "display_data"
        }
      ],
      "source": [
        "# Grid - Gráficos\n",
        "\n",
        "# Tamanho\n",
        "Figura, Eixo = plt.subplots( figsize=(20, 30) )\n",
        "\n",
        "# Cor de fundo\n",
        "Cor_Fundo = '#f5f5f5'\n",
        "Figura.set_facecolor( Cor_Fundo )\n",
        "\n",
        "# Paleta de Cores\n",
        "Paleta_Cores = sns.color_palette( 'flare', len(Colunas_Numericas) * 2 )\n",
        "\n",
        "# Titulo\n",
        "plt.suptitle('Análise das Variaveis Numericas', fontsize=22, color='#404040', fontweight=600 )\n",
        "\n",
        "# Estrutura\n",
        "Linhas = 7 # (Todas as infos numericas)\n",
        "Colunas = 2 #( Boxplot - Distplot)\n",
        "Posicao = 1 # Posicao inicial do grid\n",
        "\n",
        "# Loop para plotar os gráficos\n",
        "for Coluna in Colunas_Numericas:\n",
        "\n",
        "  # Plot no Grid -- Boxplot\n",
        "  plt.subplot( Linhas, Colunas, Posicao )\n",
        "\n",
        "  # Titulo\n",
        "  plt.title( f'{Coluna}', loc='left', fontsize=14, fontweight=200 )\n",
        "\n",
        "  # Plot\n",
        "  sns.boxplot( data=Base_Dados, y=Coluna, showmeans=True, saturation=0.75,\n",
        "              linewidth=1, color=Paleta_Cores[Posicao], width=0.25 )\n",
        "\n",
        "  # Mudar\n",
        "  Posicao += 1\n",
        "\n",
        "  # Plot no Grid -- Distplot\n",
        "  plt.subplot( Linhas, Colunas, Posicao )\n",
        "\n",
        "  # Titulo\n",
        "  plt.title( f'{Coluna}', loc='left', fontsize=14, fontweight=200 )\n",
        "\n",
        "  # Plot\n",
        "  sns.distplot( Base_Dados[Coluna], color=Paleta_Cores[ Posicao - 1 ] )\n",
        "\n",
        "  # Mudar\n",
        "  Posicao += 1\n",
        "\n",
        "# Ajute de Grid\n",
        "plt.subplots_adjust( top=0.95, hspace=0.3 )"
      ]
    },
    {
      "cell_type": "markdown",
      "metadata": {
        "id": "8P2M5eRLAL2s"
      },
      "source": [
        "# **Eng de Features**"
      ]
    },
    {
      "cell_type": "code",
      "execution_count": null,
      "metadata": {
        "colab": {
          "base_uri": "https://localhost:8080/",
          "height": 206
        },
        "id": "CoMSqQmE_qzB",
        "outputId": "79a7a788-05e7-4831-a583-7ccbff73604d"
      },
      "outputs": [
        {
          "data": {
            "text/html": [
              "\n",
              "  <div id=\"df-fe92bd37-1e42-4dbf-8e72-499daa7ba83d\">\n",
              "    <div class=\"colab-df-container\">\n",
              "      <div>\n",
              "<style scoped>\n",
              "    .dataframe tbody tr th:only-of-type {\n",
              "        vertical-align: middle;\n",
              "    }\n",
              "\n",
              "    .dataframe tbody tr th {\n",
              "        vertical-align: top;\n",
              "    }\n",
              "\n",
              "    .dataframe thead th {\n",
              "        text-align: right;\n",
              "    }\n",
              "</style>\n",
              "<table border=\"1\" class=\"dataframe\">\n",
              "  <thead>\n",
              "    <tr style=\"text-align: right;\">\n",
              "      <th></th>\n",
              "      <th>city</th>\n",
              "      <th>area</th>\n",
              "      <th>rooms</th>\n",
              "      <th>bathroom</th>\n",
              "      <th>parking spaces</th>\n",
              "      <th>floor</th>\n",
              "      <th>animal</th>\n",
              "      <th>furniture</th>\n",
              "      <th>hoa (R$)</th>\n",
              "      <th>rent amount (R$)</th>\n",
              "      <th>property tax (R$)</th>\n",
              "    </tr>\n",
              "  </thead>\n",
              "  <tbody>\n",
              "    <tr>\n",
              "      <th>0</th>\n",
              "      <td>São Paulo</td>\n",
              "      <td>70</td>\n",
              "      <td>2</td>\n",
              "      <td>1</td>\n",
              "      <td>1</td>\n",
              "      <td>7</td>\n",
              "      <td>1</td>\n",
              "      <td>1</td>\n",
              "      <td>2065</td>\n",
              "      <td>3300</td>\n",
              "      <td>211</td>\n",
              "    </tr>\n",
              "    <tr>\n",
              "      <th>1</th>\n",
              "      <td>São Paulo</td>\n",
              "      <td>320</td>\n",
              "      <td>4</td>\n",
              "      <td>4</td>\n",
              "      <td>0</td>\n",
              "      <td>20</td>\n",
              "      <td>1</td>\n",
              "      <td>0</td>\n",
              "      <td>1200</td>\n",
              "      <td>4960</td>\n",
              "      <td>1750</td>\n",
              "    </tr>\n",
              "    <tr>\n",
              "      <th>4</th>\n",
              "      <td>São Paulo</td>\n",
              "      <td>25</td>\n",
              "      <td>1</td>\n",
              "      <td>1</td>\n",
              "      <td>0</td>\n",
              "      <td>1</td>\n",
              "      <td>0</td>\n",
              "      <td>0</td>\n",
              "      <td>0</td>\n",
              "      <td>800</td>\n",
              "      <td>25</td>\n",
              "    </tr>\n",
              "    <tr>\n",
              "      <th>5</th>\n",
              "      <td>São Paulo</td>\n",
              "      <td>376</td>\n",
              "      <td>3</td>\n",
              "      <td>3</td>\n",
              "      <td>7</td>\n",
              "      <td>0</td>\n",
              "      <td>1</td>\n",
              "      <td>0</td>\n",
              "      <td>0</td>\n",
              "      <td>8000</td>\n",
              "      <td>834</td>\n",
              "    </tr>\n",
              "    <tr>\n",
              "      <th>7</th>\n",
              "      <td>São Paulo</td>\n",
              "      <td>213</td>\n",
              "      <td>4</td>\n",
              "      <td>4</td>\n",
              "      <td>4</td>\n",
              "      <td>4</td>\n",
              "      <td>1</td>\n",
              "      <td>0</td>\n",
              "      <td>2254</td>\n",
              "      <td>3223</td>\n",
              "      <td>1735</td>\n",
              "    </tr>\n",
              "  </tbody>\n",
              "</table>\n",
              "</div>\n",
              "      <button class=\"colab-df-convert\" onclick=\"convertToInteractive('df-fe92bd37-1e42-4dbf-8e72-499daa7ba83d')\"\n",
              "              title=\"Convert this dataframe to an interactive table.\"\n",
              "              style=\"display:none;\">\n",
              "        \n",
              "  <svg xmlns=\"http://www.w3.org/2000/svg\" height=\"24px\"viewBox=\"0 0 24 24\"\n",
              "       width=\"24px\">\n",
              "    <path d=\"M0 0h24v24H0V0z\" fill=\"none\"/>\n",
              "    <path d=\"M18.56 5.44l.94 2.06.94-2.06 2.06-.94-2.06-.94-.94-2.06-.94 2.06-2.06.94zm-11 1L8.5 8.5l.94-2.06 2.06-.94-2.06-.94L8.5 2.5l-.94 2.06-2.06.94zm10 10l.94 2.06.94-2.06 2.06-.94-2.06-.94-.94-2.06-.94 2.06-2.06.94z\"/><path d=\"M17.41 7.96l-1.37-1.37c-.4-.4-.92-.59-1.43-.59-.52 0-1.04.2-1.43.59L10.3 9.45l-7.72 7.72c-.78.78-.78 2.05 0 2.83L4 21.41c.39.39.9.59 1.41.59.51 0 1.02-.2 1.41-.59l7.78-7.78 2.81-2.81c.8-.78.8-2.07 0-2.86zM5.41 20L4 18.59l7.72-7.72 1.47 1.35L5.41 20z\"/>\n",
              "  </svg>\n",
              "      </button>\n",
              "      \n",
              "  <style>\n",
              "    .colab-df-container {\n",
              "      display:flex;\n",
              "      flex-wrap:wrap;\n",
              "      gap: 12px;\n",
              "    }\n",
              "\n",
              "    .colab-df-convert {\n",
              "      background-color: #E8F0FE;\n",
              "      border: none;\n",
              "      border-radius: 50%;\n",
              "      cursor: pointer;\n",
              "      display: none;\n",
              "      fill: #1967D2;\n",
              "      height: 32px;\n",
              "      padding: 0 0 0 0;\n",
              "      width: 32px;\n",
              "    }\n",
              "\n",
              "    .colab-df-convert:hover {\n",
              "      background-color: #E2EBFA;\n",
              "      box-shadow: 0px 1px 2px rgba(60, 64, 67, 0.3), 0px 1px 3px 1px rgba(60, 64, 67, 0.15);\n",
              "      fill: #174EA6;\n",
              "    }\n",
              "\n",
              "    [theme=dark] .colab-df-convert {\n",
              "      background-color: #3B4455;\n",
              "      fill: #D2E3FC;\n",
              "    }\n",
              "\n",
              "    [theme=dark] .colab-df-convert:hover {\n",
              "      background-color: #434B5C;\n",
              "      box-shadow: 0px 1px 3px 1px rgba(0, 0, 0, 0.15);\n",
              "      filter: drop-shadow(0px 1px 2px rgba(0, 0, 0, 0.3));\n",
              "      fill: #FFFFFF;\n",
              "    }\n",
              "  </style>\n",
              "\n",
              "      <script>\n",
              "        const buttonEl =\n",
              "          document.querySelector('#df-fe92bd37-1e42-4dbf-8e72-499daa7ba83d button.colab-df-convert');\n",
              "        buttonEl.style.display =\n",
              "          google.colab.kernel.accessAllowed ? 'block' : 'none';\n",
              "\n",
              "        async function convertToInteractive(key) {\n",
              "          const element = document.querySelector('#df-fe92bd37-1e42-4dbf-8e72-499daa7ba83d');\n",
              "          const dataTable =\n",
              "            await google.colab.kernel.invokeFunction('convertToInteractive',\n",
              "                                                     [key], {});\n",
              "          if (!dataTable) return;\n",
              "\n",
              "          const docLinkHtml = 'Like what you see? Visit the ' +\n",
              "            '<a target=\"_blank\" href=https://colab.research.google.com/notebooks/data_table.ipynb>data table notebook</a>'\n",
              "            + ' to learn more about interactive tables.';\n",
              "          element.innerHTML = '';\n",
              "          dataTable['output_type'] = 'display_data';\n",
              "          await google.colab.output.renderOutput(dataTable, element);\n",
              "          const docLink = document.createElement('div');\n",
              "          docLink.innerHTML = docLinkHtml;\n",
              "          element.appendChild(docLink);\n",
              "        }\n",
              "      </script>\n",
              "    </div>\n",
              "  </div>\n",
              "  "
            ],
            "text/plain": [
              "        city  area  rooms  bathroom  parking spaces  floor  animal  furniture  \\\n",
              "0  São Paulo    70      2         1               1      7       1          1   \n",
              "1  São Paulo   320      4         4               0     20       1          0   \n",
              "4  São Paulo    25      1         1               0      1       0          0   \n",
              "5  São Paulo   376      3         3               7      0       1          0   \n",
              "7  São Paulo   213      4         4               4      4       1          0   \n",
              "\n",
              "   hoa (R$)  rent amount (R$)  property tax (R$)  \n",
              "0      2065              3300                211  \n",
              "1      1200              4960               1750  \n",
              "4         0               800                 25  \n",
              "5         0              8000                834  \n",
              "7      2254              3223               1735  "
            ]
          },
          "execution_count": 17,
          "metadata": {},
          "output_type": "execute_result"
        }
      ],
      "source": [
        "# Ajuste das colunas categoricas\n",
        "Base_Dados['animal'] = Base_Dados['animal'].map( {'acept':1, 'not acept':0} )\n",
        "Base_Dados['furniture'] = Base_Dados['furniture'].map( {'furnished':1, 'not furnished':0} )\n",
        "\n",
        "# Filtrar a Cidade de São Paulo\n",
        "Filtro_SP = Base_Dados.loc[ Base_Dados['city'] == 'São Paulo']\n",
        "\n",
        "# Verificar\n",
        "Filtro_SP.head()"
      ]
    },
    {
      "cell_type": "code",
      "execution_count": null,
      "metadata": {
        "id": "kdFyuVx2CNVS"
      },
      "outputs": [],
      "source": [
        "# Retirando a Coluna Cidade\n",
        "Filtro_SP.drop( columns=['city'], inplace=True )"
      ]
    },
    {
      "cell_type": "code",
      "execution_count": null,
      "metadata": {
        "colab": {
          "base_uri": "https://localhost:8080/"
        },
        "id": "QlAyQGGnCfUa",
        "outputId": "58013169-b02c-4cdb-a896-dbb3f04ed27b"
      },
      "outputs": [
        {
          "data": {
            "text/plain": [
              "((5887, 9), (5887,))"
            ]
          },
          "execution_count": 19,
          "metadata": {},
          "output_type": "execute_result"
        }
      ],
      "source": [
        "# Separa os dados\n",
        "Caracteristicas = Filtro_SP.drop( columns=['rent amount (R$)'] )\n",
        "Previsor = Filtro_SP['rent amount (R$)']\n",
        "\n",
        "# VErificar\n",
        "Caracteristicas.shape, Previsor.shape"
      ]
    },
    {
      "cell_type": "code",
      "execution_count": null,
      "metadata": {
        "colab": {
          "base_uri": "https://localhost:8080/",
          "height": 206
        },
        "id": "1OW3l1RYDAqm",
        "outputId": "7e672166-36a4-44aa-a81a-2fae6863066f"
      },
      "outputs": [
        {
          "data": {
            "text/html": [
              "\n",
              "  <div id=\"df-acb62dc2-7f35-4af7-977d-a15ea3862374\">\n",
              "    <div class=\"colab-df-container\">\n",
              "      <div>\n",
              "<style scoped>\n",
              "    .dataframe tbody tr th:only-of-type {\n",
              "        vertical-align: middle;\n",
              "    }\n",
              "\n",
              "    .dataframe tbody tr th {\n",
              "        vertical-align: top;\n",
              "    }\n",
              "\n",
              "    .dataframe thead th {\n",
              "        text-align: right;\n",
              "    }\n",
              "</style>\n",
              "<table border=\"1\" class=\"dataframe\">\n",
              "  <thead>\n",
              "    <tr style=\"text-align: right;\">\n",
              "      <th></th>\n",
              "      <th>area</th>\n",
              "      <th>rooms</th>\n",
              "      <th>bathroom</th>\n",
              "      <th>parking spaces</th>\n",
              "      <th>floor</th>\n",
              "      <th>animal</th>\n",
              "      <th>furniture</th>\n",
              "      <th>hoa (R$)</th>\n",
              "      <th>property tax (R$)</th>\n",
              "    </tr>\n",
              "  </thead>\n",
              "  <tbody>\n",
              "    <tr>\n",
              "      <th>0</th>\n",
              "      <td>70</td>\n",
              "      <td>2</td>\n",
              "      <td>1</td>\n",
              "      <td>1</td>\n",
              "      <td>7</td>\n",
              "      <td>1</td>\n",
              "      <td>1</td>\n",
              "      <td>2065</td>\n",
              "      <td>211</td>\n",
              "    </tr>\n",
              "    <tr>\n",
              "      <th>1</th>\n",
              "      <td>320</td>\n",
              "      <td>4</td>\n",
              "      <td>4</td>\n",
              "      <td>0</td>\n",
              "      <td>20</td>\n",
              "      <td>1</td>\n",
              "      <td>0</td>\n",
              "      <td>1200</td>\n",
              "      <td>1750</td>\n",
              "    </tr>\n",
              "    <tr>\n",
              "      <th>4</th>\n",
              "      <td>25</td>\n",
              "      <td>1</td>\n",
              "      <td>1</td>\n",
              "      <td>0</td>\n",
              "      <td>1</td>\n",
              "      <td>0</td>\n",
              "      <td>0</td>\n",
              "      <td>0</td>\n",
              "      <td>25</td>\n",
              "    </tr>\n",
              "    <tr>\n",
              "      <th>5</th>\n",
              "      <td>376</td>\n",
              "      <td>3</td>\n",
              "      <td>3</td>\n",
              "      <td>7</td>\n",
              "      <td>0</td>\n",
              "      <td>1</td>\n",
              "      <td>0</td>\n",
              "      <td>0</td>\n",
              "      <td>834</td>\n",
              "    </tr>\n",
              "    <tr>\n",
              "      <th>7</th>\n",
              "      <td>213</td>\n",
              "      <td>4</td>\n",
              "      <td>4</td>\n",
              "      <td>4</td>\n",
              "      <td>4</td>\n",
              "      <td>1</td>\n",
              "      <td>0</td>\n",
              "      <td>2254</td>\n",
              "      <td>1735</td>\n",
              "    </tr>\n",
              "  </tbody>\n",
              "</table>\n",
              "</div>\n",
              "      <button class=\"colab-df-convert\" onclick=\"convertToInteractive('df-acb62dc2-7f35-4af7-977d-a15ea3862374')\"\n",
              "              title=\"Convert this dataframe to an interactive table.\"\n",
              "              style=\"display:none;\">\n",
              "        \n",
              "  <svg xmlns=\"http://www.w3.org/2000/svg\" height=\"24px\"viewBox=\"0 0 24 24\"\n",
              "       width=\"24px\">\n",
              "    <path d=\"M0 0h24v24H0V0z\" fill=\"none\"/>\n",
              "    <path d=\"M18.56 5.44l.94 2.06.94-2.06 2.06-.94-2.06-.94-.94-2.06-.94 2.06-2.06.94zm-11 1L8.5 8.5l.94-2.06 2.06-.94-2.06-.94L8.5 2.5l-.94 2.06-2.06.94zm10 10l.94 2.06.94-2.06 2.06-.94-2.06-.94-.94-2.06-.94 2.06-2.06.94z\"/><path d=\"M17.41 7.96l-1.37-1.37c-.4-.4-.92-.59-1.43-.59-.52 0-1.04.2-1.43.59L10.3 9.45l-7.72 7.72c-.78.78-.78 2.05 0 2.83L4 21.41c.39.39.9.59 1.41.59.51 0 1.02-.2 1.41-.59l7.78-7.78 2.81-2.81c.8-.78.8-2.07 0-2.86zM5.41 20L4 18.59l7.72-7.72 1.47 1.35L5.41 20z\"/>\n",
              "  </svg>\n",
              "      </button>\n",
              "      \n",
              "  <style>\n",
              "    .colab-df-container {\n",
              "      display:flex;\n",
              "      flex-wrap:wrap;\n",
              "      gap: 12px;\n",
              "    }\n",
              "\n",
              "    .colab-df-convert {\n",
              "      background-color: #E8F0FE;\n",
              "      border: none;\n",
              "      border-radius: 50%;\n",
              "      cursor: pointer;\n",
              "      display: none;\n",
              "      fill: #1967D2;\n",
              "      height: 32px;\n",
              "      padding: 0 0 0 0;\n",
              "      width: 32px;\n",
              "    }\n",
              "\n",
              "    .colab-df-convert:hover {\n",
              "      background-color: #E2EBFA;\n",
              "      box-shadow: 0px 1px 2px rgba(60, 64, 67, 0.3), 0px 1px 3px 1px rgba(60, 64, 67, 0.15);\n",
              "      fill: #174EA6;\n",
              "    }\n",
              "\n",
              "    [theme=dark] .colab-df-convert {\n",
              "      background-color: #3B4455;\n",
              "      fill: #D2E3FC;\n",
              "    }\n",
              "\n",
              "    [theme=dark] .colab-df-convert:hover {\n",
              "      background-color: #434B5C;\n",
              "      box-shadow: 0px 1px 3px 1px rgba(0, 0, 0, 0.15);\n",
              "      filter: drop-shadow(0px 1px 2px rgba(0, 0, 0, 0.3));\n",
              "      fill: #FFFFFF;\n",
              "    }\n",
              "  </style>\n",
              "\n",
              "      <script>\n",
              "        const buttonEl =\n",
              "          document.querySelector('#df-acb62dc2-7f35-4af7-977d-a15ea3862374 button.colab-df-convert');\n",
              "        buttonEl.style.display =\n",
              "          google.colab.kernel.accessAllowed ? 'block' : 'none';\n",
              "\n",
              "        async function convertToInteractive(key) {\n",
              "          const element = document.querySelector('#df-acb62dc2-7f35-4af7-977d-a15ea3862374');\n",
              "          const dataTable =\n",
              "            await google.colab.kernel.invokeFunction('convertToInteractive',\n",
              "                                                     [key], {});\n",
              "          if (!dataTable) return;\n",
              "\n",
              "          const docLinkHtml = 'Like what you see? Visit the ' +\n",
              "            '<a target=\"_blank\" href=https://colab.research.google.com/notebooks/data_table.ipynb>data table notebook</a>'\n",
              "            + ' to learn more about interactive tables.';\n",
              "          element.innerHTML = '';\n",
              "          dataTable['output_type'] = 'display_data';\n",
              "          await google.colab.output.renderOutput(dataTable, element);\n",
              "          const docLink = document.createElement('div');\n",
              "          docLink.innerHTML = docLinkHtml;\n",
              "          element.appendChild(docLink);\n",
              "        }\n",
              "      </script>\n",
              "    </div>\n",
              "  </div>\n",
              "  "
            ],
            "text/plain": [
              "   area  rooms  bathroom  parking spaces  floor  animal  furniture  hoa (R$)  \\\n",
              "0    70      2         1               1      7       1          1      2065   \n",
              "1   320      4         4               0     20       1          0      1200   \n",
              "4    25      1         1               0      1       0          0         0   \n",
              "5   376      3         3               7      0       1          0         0   \n",
              "7   213      4         4               4      4       1          0      2254   \n",
              "\n",
              "   property tax (R$)  \n",
              "0                211  \n",
              "1               1750  \n",
              "4                 25  \n",
              "5                834  \n",
              "7               1735  "
            ]
          },
          "execution_count": 20,
          "metadata": {},
          "output_type": "execute_result"
        }
      ],
      "source": [
        "# Caracterticas\n",
        "Caracteristicas.head()"
      ]
    },
    {
      "cell_type": "code",
      "execution_count": null,
      "metadata": {
        "colab": {
          "base_uri": "https://localhost:8080/"
        },
        "id": "c7Gwimu6DPjc",
        "outputId": "5df048b3-d144-4256-de72-d5b1da9e2750"
      },
      "outputs": [
        {
          "data": {
            "text/plain": [
              "0    3300\n",
              "1    4960\n",
              "4     800\n",
              "5    8000\n",
              "7    3223\n",
              "Name: rent amount (R$), dtype: int64"
            ]
          },
          "execution_count": 21,
          "metadata": {},
          "output_type": "execute_result"
        }
      ],
      "source": [
        "# Previsoor\n",
        "Previsor.head()"
      ]
    },
    {
      "cell_type": "code",
      "execution_count": null,
      "metadata": {
        "colab": {
          "base_uri": "https://localhost:8080/",
          "height": 363
        },
        "id": "9cwQhrMbDjzj",
        "outputId": "06b2e896-9c40-4266-beff-e8a812b77dad"
      },
      "outputs": [
        {
          "data": {
            "text/html": [
              "\n",
              "  <div id=\"df-ae47a04f-217f-495d-8734-59bedd4f0704\">\n",
              "    <div class=\"colab-df-container\">\n",
              "      <div>\n",
              "<style scoped>\n",
              "    .dataframe tbody tr th:only-of-type {\n",
              "        vertical-align: middle;\n",
              "    }\n",
              "\n",
              "    .dataframe tbody tr th {\n",
              "        vertical-align: top;\n",
              "    }\n",
              "\n",
              "    .dataframe thead th {\n",
              "        text-align: right;\n",
              "    }\n",
              "</style>\n",
              "<table border=\"1\" class=\"dataframe\">\n",
              "  <thead>\n",
              "    <tr style=\"text-align: right;\">\n",
              "      <th></th>\n",
              "      <th>area</th>\n",
              "      <th>rooms</th>\n",
              "      <th>bathroom</th>\n",
              "      <th>parking spaces</th>\n",
              "      <th>floor</th>\n",
              "      <th>animal</th>\n",
              "      <th>furniture</th>\n",
              "      <th>hoa (R$)</th>\n",
              "      <th>rent amount (R$)</th>\n",
              "      <th>property tax (R$)</th>\n",
              "    </tr>\n",
              "  </thead>\n",
              "  <tbody>\n",
              "    <tr>\n",
              "      <th>area</th>\n",
              "      <td>1.000000</td>\n",
              "      <td>0.306863</td>\n",
              "      <td>0.316543</td>\n",
              "      <td>0.300795</td>\n",
              "      <td>-0.038790</td>\n",
              "      <td>0.073565</td>\n",
              "      <td>-0.018145</td>\n",
              "      <td>0.056091</td>\n",
              "      <td>0.274749</td>\n",
              "      <td>0.065289</td>\n",
              "    </tr>\n",
              "    <tr>\n",
              "      <th>rooms</th>\n",
              "      <td>0.306863</td>\n",
              "      <td>1.000000</td>\n",
              "      <td>0.759432</td>\n",
              "      <td>0.645041</td>\n",
              "      <td>-0.092117</td>\n",
              "      <td>0.213963</td>\n",
              "      <td>-0.088931</td>\n",
              "      <td>0.136343</td>\n",
              "      <td>0.537622</td>\n",
              "      <td>0.071702</td>\n",
              "    </tr>\n",
              "    <tr>\n",
              "      <th>bathroom</th>\n",
              "      <td>0.316543</td>\n",
              "      <td>0.759432</td>\n",
              "      <td>1.000000</td>\n",
              "      <td>0.703530</td>\n",
              "      <td>-0.015503</td>\n",
              "      <td>0.159097</td>\n",
              "      <td>0.005864</td>\n",
              "      <td>0.163205</td>\n",
              "      <td>0.638924</td>\n",
              "      <td>0.101616</td>\n",
              "    </tr>\n",
              "    <tr>\n",
              "      <th>parking spaces</th>\n",
              "      <td>0.300795</td>\n",
              "      <td>0.645041</td>\n",
              "      <td>0.703530</td>\n",
              "      <td>1.000000</td>\n",
              "      <td>-0.038378</td>\n",
              "      <td>0.165253</td>\n",
              "      <td>-0.015155</td>\n",
              "      <td>0.115951</td>\n",
              "      <td>0.573373</td>\n",
              "      <td>0.092362</td>\n",
              "    </tr>\n",
              "    <tr>\n",
              "      <th>floor</th>\n",
              "      <td>-0.038790</td>\n",
              "      <td>-0.092117</td>\n",
              "      <td>-0.015503</td>\n",
              "      <td>-0.038378</td>\n",
              "      <td>1.000000</td>\n",
              "      <td>-0.014202</td>\n",
              "      <td>0.135180</td>\n",
              "      <td>0.107211</td>\n",
              "      <td>0.065294</td>\n",
              "      <td>0.005672</td>\n",
              "    </tr>\n",
              "    <tr>\n",
              "      <th>animal</th>\n",
              "      <td>0.073565</td>\n",
              "      <td>0.213963</td>\n",
              "      <td>0.159097</td>\n",
              "      <td>0.165253</td>\n",
              "      <td>-0.014202</td>\n",
              "      <td>1.000000</td>\n",
              "      <td>-0.066208</td>\n",
              "      <td>0.020575</td>\n",
              "      <td>0.107147</td>\n",
              "      <td>-0.005308</td>\n",
              "    </tr>\n",
              "    <tr>\n",
              "      <th>furniture</th>\n",
              "      <td>-0.018145</td>\n",
              "      <td>-0.088931</td>\n",
              "      <td>0.005864</td>\n",
              "      <td>-0.015155</td>\n",
              "      <td>0.135180</td>\n",
              "      <td>-0.066208</td>\n",
              "      <td>1.000000</td>\n",
              "      <td>0.042860</td>\n",
              "      <td>0.154316</td>\n",
              "      <td>-0.007852</td>\n",
              "    </tr>\n",
              "    <tr>\n",
              "      <th>hoa (R$)</th>\n",
              "      <td>0.056091</td>\n",
              "      <td>0.136343</td>\n",
              "      <td>0.163205</td>\n",
              "      <td>0.115951</td>\n",
              "      <td>0.107211</td>\n",
              "      <td>0.020575</td>\n",
              "      <td>0.042860</td>\n",
              "      <td>1.000000</td>\n",
              "      <td>0.188147</td>\n",
              "      <td>0.028872</td>\n",
              "    </tr>\n",
              "    <tr>\n",
              "      <th>rent amount (R$)</th>\n",
              "      <td>0.274749</td>\n",
              "      <td>0.537622</td>\n",
              "      <td>0.638924</td>\n",
              "      <td>0.573373</td>\n",
              "      <td>0.065294</td>\n",
              "      <td>0.107147</td>\n",
              "      <td>0.154316</td>\n",
              "      <td>0.188147</td>\n",
              "      <td>1.000000</td>\n",
              "      <td>0.091749</td>\n",
              "    </tr>\n",
              "    <tr>\n",
              "      <th>property tax (R$)</th>\n",
              "      <td>0.065289</td>\n",
              "      <td>0.071702</td>\n",
              "      <td>0.101616</td>\n",
              "      <td>0.092362</td>\n",
              "      <td>0.005672</td>\n",
              "      <td>-0.005308</td>\n",
              "      <td>-0.007852</td>\n",
              "      <td>0.028872</td>\n",
              "      <td>0.091749</td>\n",
              "      <td>1.000000</td>\n",
              "    </tr>\n",
              "  </tbody>\n",
              "</table>\n",
              "</div>\n",
              "      <button class=\"colab-df-convert\" onclick=\"convertToInteractive('df-ae47a04f-217f-495d-8734-59bedd4f0704')\"\n",
              "              title=\"Convert this dataframe to an interactive table.\"\n",
              "              style=\"display:none;\">\n",
              "        \n",
              "  <svg xmlns=\"http://www.w3.org/2000/svg\" height=\"24px\"viewBox=\"0 0 24 24\"\n",
              "       width=\"24px\">\n",
              "    <path d=\"M0 0h24v24H0V0z\" fill=\"none\"/>\n",
              "    <path d=\"M18.56 5.44l.94 2.06.94-2.06 2.06-.94-2.06-.94-.94-2.06-.94 2.06-2.06.94zm-11 1L8.5 8.5l.94-2.06 2.06-.94-2.06-.94L8.5 2.5l-.94 2.06-2.06.94zm10 10l.94 2.06.94-2.06 2.06-.94-2.06-.94-.94-2.06-.94 2.06-2.06.94z\"/><path d=\"M17.41 7.96l-1.37-1.37c-.4-.4-.92-.59-1.43-.59-.52 0-1.04.2-1.43.59L10.3 9.45l-7.72 7.72c-.78.78-.78 2.05 0 2.83L4 21.41c.39.39.9.59 1.41.59.51 0 1.02-.2 1.41-.59l7.78-7.78 2.81-2.81c.8-.78.8-2.07 0-2.86zM5.41 20L4 18.59l7.72-7.72 1.47 1.35L5.41 20z\"/>\n",
              "  </svg>\n",
              "      </button>\n",
              "      \n",
              "  <style>\n",
              "    .colab-df-container {\n",
              "      display:flex;\n",
              "      flex-wrap:wrap;\n",
              "      gap: 12px;\n",
              "    }\n",
              "\n",
              "    .colab-df-convert {\n",
              "      background-color: #E8F0FE;\n",
              "      border: none;\n",
              "      border-radius: 50%;\n",
              "      cursor: pointer;\n",
              "      display: none;\n",
              "      fill: #1967D2;\n",
              "      height: 32px;\n",
              "      padding: 0 0 0 0;\n",
              "      width: 32px;\n",
              "    }\n",
              "\n",
              "    .colab-df-convert:hover {\n",
              "      background-color: #E2EBFA;\n",
              "      box-shadow: 0px 1px 2px rgba(60, 64, 67, 0.3), 0px 1px 3px 1px rgba(60, 64, 67, 0.15);\n",
              "      fill: #174EA6;\n",
              "    }\n",
              "\n",
              "    [theme=dark] .colab-df-convert {\n",
              "      background-color: #3B4455;\n",
              "      fill: #D2E3FC;\n",
              "    }\n",
              "\n",
              "    [theme=dark] .colab-df-convert:hover {\n",
              "      background-color: #434B5C;\n",
              "      box-shadow: 0px 1px 3px 1px rgba(0, 0, 0, 0.15);\n",
              "      filter: drop-shadow(0px 1px 2px rgba(0, 0, 0, 0.3));\n",
              "      fill: #FFFFFF;\n",
              "    }\n",
              "  </style>\n",
              "\n",
              "      <script>\n",
              "        const buttonEl =\n",
              "          document.querySelector('#df-ae47a04f-217f-495d-8734-59bedd4f0704 button.colab-df-convert');\n",
              "        buttonEl.style.display =\n",
              "          google.colab.kernel.accessAllowed ? 'block' : 'none';\n",
              "\n",
              "        async function convertToInteractive(key) {\n",
              "          const element = document.querySelector('#df-ae47a04f-217f-495d-8734-59bedd4f0704');\n",
              "          const dataTable =\n",
              "            await google.colab.kernel.invokeFunction('convertToInteractive',\n",
              "                                                     [key], {});\n",
              "          if (!dataTable) return;\n",
              "\n",
              "          const docLinkHtml = 'Like what you see? Visit the ' +\n",
              "            '<a target=\"_blank\" href=https://colab.research.google.com/notebooks/data_table.ipynb>data table notebook</a>'\n",
              "            + ' to learn more about interactive tables.';\n",
              "          element.innerHTML = '';\n",
              "          dataTable['output_type'] = 'display_data';\n",
              "          await google.colab.output.renderOutput(dataTable, element);\n",
              "          const docLink = document.createElement('div');\n",
              "          docLink.innerHTML = docLinkHtml;\n",
              "          element.appendChild(docLink);\n",
              "        }\n",
              "      </script>\n",
              "    </div>\n",
              "  </div>\n",
              "  "
            ],
            "text/plain": [
              "                       area     rooms  bathroom  parking spaces     floor  \\\n",
              "area               1.000000  0.306863  0.316543        0.300795 -0.038790   \n",
              "rooms              0.306863  1.000000  0.759432        0.645041 -0.092117   \n",
              "bathroom           0.316543  0.759432  1.000000        0.703530 -0.015503   \n",
              "parking spaces     0.300795  0.645041  0.703530        1.000000 -0.038378   \n",
              "floor             -0.038790 -0.092117 -0.015503       -0.038378  1.000000   \n",
              "animal             0.073565  0.213963  0.159097        0.165253 -0.014202   \n",
              "furniture         -0.018145 -0.088931  0.005864       -0.015155  0.135180   \n",
              "hoa (R$)           0.056091  0.136343  0.163205        0.115951  0.107211   \n",
              "rent amount (R$)   0.274749  0.537622  0.638924        0.573373  0.065294   \n",
              "property tax (R$)  0.065289  0.071702  0.101616        0.092362  0.005672   \n",
              "\n",
              "                     animal  furniture  hoa (R$)  rent amount (R$)  \\\n",
              "area               0.073565  -0.018145  0.056091          0.274749   \n",
              "rooms              0.213963  -0.088931  0.136343          0.537622   \n",
              "bathroom           0.159097   0.005864  0.163205          0.638924   \n",
              "parking spaces     0.165253  -0.015155  0.115951          0.573373   \n",
              "floor             -0.014202   0.135180  0.107211          0.065294   \n",
              "animal             1.000000  -0.066208  0.020575          0.107147   \n",
              "furniture         -0.066208   1.000000  0.042860          0.154316   \n",
              "hoa (R$)           0.020575   0.042860  1.000000          0.188147   \n",
              "rent amount (R$)   0.107147   0.154316  0.188147          1.000000   \n",
              "property tax (R$) -0.005308  -0.007852  0.028872          0.091749   \n",
              "\n",
              "                   property tax (R$)  \n",
              "area                        0.065289  \n",
              "rooms                       0.071702  \n",
              "bathroom                    0.101616  \n",
              "parking spaces              0.092362  \n",
              "floor                       0.005672  \n",
              "animal                     -0.005308  \n",
              "furniture                  -0.007852  \n",
              "hoa (R$)                    0.028872  \n",
              "rent amount (R$)            0.091749  \n",
              "property tax (R$)           1.000000  "
            ]
          },
          "execution_count": 22,
          "metadata": {},
          "output_type": "execute_result"
        }
      ],
      "source": [
        "# Correlação\n",
        "Filtro_SP.corr()\n",
        "\n",
        "# Proxima de 1 - Correlação Possitva [ Ambas Sobem ]\n",
        "# Proxima de -1 - Correlação Negativa [ Uma sobe outra desce ]"
      ]
    },
    {
      "cell_type": "code",
      "execution_count": null,
      "metadata": {
        "colab": {
          "base_uri": "https://localhost:8080/",
          "height": 427
        },
        "id": "eT14OaEMDRe_",
        "outputId": "80fc6a78-7d1e-408d-8ce3-d40c80f3db07"
      },
      "outputs": [
        {
          "data": {
            "image/png": "[encoded data removed]",
            "text/plain": [
              "<Figure size 576x396 with 2 Axes>"
            ]
          },
          "metadata": {},
          "output_type": "display_data"
        }
      ],
      "source": [
        "# Yellowbrick\n",
        "from yellowbrick.features import Rank2D\n",
        "\n",
        "# Definir o metodo\n",
        "Correlacao = Rank2D( algoritmo='pearson' )\n",
        "\n",
        "# Fitar função\n",
        "Correlacao.fit( Caracteristicas, Previsor )\n",
        "Correlacao.transform( Caracteristicas )\n",
        "Correlacao.show();"
      ]
    },
    {
      "cell_type": "code",
      "execution_count": null,
      "metadata": {
        "colab": {
          "base_uri": "https://localhost:8080/"
        },
        "id": "zcHG7uhbEWYU",
        "outputId": "10f3cfc4-b923-4203-d7f5-79f2a11b1586"
      },
      "outputs": [
        {
          "name": "stdout",
          "output_type": "stream",
          "text": [
            "Dados de Treino: 4709\n",
            "Dados de Teste: 1178\n"
          ]
        }
      ],
      "source": [
        "# Separa os dadoos\n",
        "from sklearn.model_selection import train_test_split\n",
        "\n",
        "# Divisão dos dados\n",
        "x_treino, x_teste, y_treino, y_teste = train_test_split(\n",
        "    Caracteristicas, Previsor, test_size=0.2, random_state=10\n",
        ")\n",
        "\n",
        "print(f'Dados de Treino: { x_treino.shape[0] }')\n",
        "print(f'Dados de Teste: { x_teste.shape[0] }')"
      ]
    },
    {
      "cell_type": "code",
      "execution_count": null,
      "metadata": {
        "colab": {
          "base_uri": "https://localhost:8080/"
        },
        "id": "8dWlqYcYG6G_",
        "outputId": "cfe2844a-bf29-471e-8e0b-0eba6507564e"
      },
      "outputs": [
        {
          "name": "stdout",
          "output_type": "stream",
          "text": [
            " area : 0.04800073993795406\n",
            " rooms : 0.27119955752520486\n",
            " bathroom : 0.3169447946635273\n",
            " parking spaces : 0.2287723849227148\n",
            " floor : 0.030664848555468804\n",
            " animal : 0.02522106886425357\n",
            " furniture : 0.05022195691737874\n",
            " hoa (R$) : 0.04243754078520512\n",
            " property tax (R$) : 0.1576044850588345\n"
          ]
        }
      ],
      "source": [
        "# Features mais relevantes\n",
        "from sklearn.feature_selection import mutual_info_regression\n",
        "from sklearn.feature_selection import SelectKBest\n",
        "\n",
        "# Selecao de features\n",
        "def Selecao_Features( x_treino, y_treino ):\n",
        "\n",
        "  # Configurar para selecionar as features\n",
        "  Selecao = SelectKBest( score_func=mutual_info_regression, k=5 )\n",
        "\n",
        "  # Fitar o aprendizado\n",
        "  Selecao.fit( x_treino, y_treino )\n",
        "\n",
        "  return Selecao\n",
        "\n",
        "# Aplicar essa função\n",
        "Scores = Selecao_Features( x_treino, y_treino )\n",
        "\n",
        "# Analisar\n",
        "for Posicao, Score in enumerate( Scores.scores_ ):\n",
        "  print( f' { x_treino.columns[Posicao] } : {Score}' )"
      ]
    },
    {
      "cell_type": "markdown",
      "metadata": {
        "id": "N1jGIm16I9B7"
      },
      "source": [
        "# **Construção do Modelo**"
      ]
    },
    {
      "cell_type": "code",
      "execution_count": null,
      "metadata": {
        "colab": {
          "base_uri": "https://localhost:8080/"
        },
        "id": "cz7IW6elJgbN",
        "outputId": "3c8d4d74-4f19-4cd5-9e23-2213ca7ec113"
      },
      "outputs": [
        {
          "data": {
            "text/plain": [
              "RandomForestRegressor(max_depth=5)"
            ]
          },
          "execution_count": 26,
          "metadata": {},
          "output_type": "execute_result"
        }
      ],
      "source": [
        "# Modelo Random Forest Regresson\n",
        "from sklearn.ensemble import RandomForestRegressor\n",
        "\n",
        "# Instanciar\n",
        "Modelo_Floresta = RandomForestRegressor( max_depth=5 )\n",
        "\n",
        "# Fitar\n",
        "Modelo_Floresta.fit( x_treino, y_treino )"
      ]
    },
    {
      "cell_type": "code",
      "execution_count": null,
      "metadata": {
        "colab": {
          "base_uri": "https://localhost:8080/"
        },
        "id": "qzopoBR3Kij1",
        "outputId": "bf629b56-74c3-480f-d964-4da4c1438841"
      },
      "outputs": [
        {
          "name": "stdout",
          "output_type": "stream",
          "text": [
            "RMSE: 2475.4341267056934 \n",
            "Score: 0.5564991812032102 \n"
          ]
        }
      ],
      "source": [
        "# Avaliar a performance\n",
        "Previsoes = Modelo_Floresta.predict( x_teste )\n",
        "\n",
        "# Funcao para avaliar\n",
        "from sklearn.metrics import mean_squared_error, r2_score\n",
        "from math import sqrt\n",
        "\n",
        "print(f'RMSE: { sqrt(mean_squared_error( y_teste, Previsoes ) ) } ')\n",
        "print(f'Score: { r2_score( y_teste, Previsoes ) } ')"
      ]
    },
    {
      "cell_type": "code",
      "execution_count": null,
      "metadata": {
        "colab": {
          "base_uri": "https://localhost:8080/",
          "height": 378
        },
        "id": "qp53CxfWMD-O",
        "outputId": "c0685bec-751e-4e01-9164-527156690d7e"
      },
      "outputs": [
        {
          "data": {
            "image/png": "[encoded data removed]",
            "text/plain": [
              "<Figure size 576x396 with 1 Axes>"
            ]
          },
          "metadata": {},
          "output_type": "display_data"
        }
      ],
      "source": [
        "# Avaliando Yellowbrick\n",
        "from yellowbrick.regressor import PredictionError\n",
        "\n",
        "# Instanciar\n",
        "Modelo = RandomForestRegressor( max_depth=5 )\n",
        "Erro_Modelo = PredictionError( Modelo )\n",
        "\n",
        "# Fitar\n",
        "Erro_Modelo.fit( x_treino, y_treino )\n",
        "Erro_Modelo.score( x_teste, y_teste )\n",
        "Erro_Modelo.show();"
      ]
    },
    {
      "cell_type": "markdown",
      "metadata": {
        "id": "VhPd5Mu2RwXN"
      },
      "source": [
        "# **Exportação**"
      ]
    },
    {
      "cell_type": "code",
      "execution_count": null,
      "metadata": {
        "colab": {
          "base_uri": "https://localhost:8080/"
        },
        "id": "OuqwIlqeRyDx",
        "outputId": "1fafc694-2f5a-48f2-bc44-bd65c681cb56"
      },
      "outputs": [
        {
          "data": {
            "text/plain": [
              "['Modelo_Floresta_Aleatorio_v100.pkl']"
            ]
          },
          "execution_count": 29,
          "metadata": {},
          "output_type": "execute_result"
        }
      ],
      "source": [
        "# Exportando o modelo\n",
        "import joblib\n",
        "\n",
        "# Função\n",
        "joblib.dump( Modelo_Floresta, 'Modelo_Floresta_Aleatorio_v100.pkl')"
      ]
    },
    {
      "cell_type": "code",
      "execution_count": null,
      "metadata": {
        "id": "NELhB3qBSGsJ"
      },
      "outputs": [],
      "source": [
        "# Testando o modelo treinado\n",
        "Funcao_Modelo_Carregado = joblib.load('Modelo_Floresta_Aleatorio_v100.pkl')"
      ]
    },
    {
      "cell_type": "code",
      "execution_count": null,
      "metadata": {
        "colab": {
          "base_uri": "https://localhost:8080/"
        },
        "id": "ZaK_4E5RSUvI",
        "outputId": "20e07d9f-8be3-4767-ad69-78495fe96f61"
      },
      "outputs": [
        {
          "data": {
            "text/plain": [
              "array([1539.55461667])"
            ]
          },
          "execution_count": 31,
          "metadata": {},
          "output_type": "execute_result"
        }
      ],
      "source": [
        "# Testando\n",
        "Funcao_Modelo_Carregado.predict( x_teste.head(1).values )"
      ]
    },
    {
      "cell_type": "code",
      "execution_count": null,
      "metadata": {
        "colab": {
          "base_uri": "https://localhost:8080/"
        },
        "id": "v7W-ta5MGV0l",
        "outputId": "13f391ac-8d39-4876-b496-f14c4c943c53"
      },
      "outputs": [
        {
          "data": {
            "text/plain": [
              "array([[ 25,   1,   1,   0,   0,   0,   0,   0,  84],\n",
              "       [480,   4,   5,   3,   0,   1,   0,   0, 742]])"
            ]
          },
          "execution_count": 32,
          "metadata": {},
          "output_type": "execute_result"
        }
      ],
      "source": [
        "x_teste.head(2).values"
      ]
    },
    {
      "cell_type": "code",
      "execution_count": null,
      "metadata": {
        "id": "he4toHJeGXK4"
      },
      "outputs": [],
      "source": []
    }
  ],
  "metadata": {
    "colab": {
      "provenance": []
    },
    "kernelspec": {
      "display_name": "Python 3",
      "name": "python3"
    },
    "language_info": {
      "codemirror_mode": {
        "name": "ipython",
        "version": 3
      },
      "file_extension": ".py",
      "mimetype": "text/x-python",
      "name": "python",
      "nbconvert_exporter": "python",
      "pygments_lexer": "ipython3",
      "version": "3.12.3"
    }
  },
  "nbformat": 4,
  "nbformat_minor": 0
}
